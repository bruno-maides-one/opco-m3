{
 "cells": [
  {
   "cell_type": "markdown",
   "id": "8ca32fc259d088cb",
   "metadata": {},
   "source": [
    "# M2 Brief 2 : Nettoyage et Préparation Éthique d'un Jeu de Données"
   ]
  },
  {
   "cell_type": "markdown",
   "id": "a22ba8fa5cb2501a",
   "metadata": {},
   "source": [
    "## Contexte de l'étude\n",
    "\n",
    "\n",
    "Ce notebook va être utiliser pour préparer un dataset dans le but d'entrainer un modèle destiné à faire une regression pour déterminé le montant de pret maximal que l'on peux accorder à un emprunteur.\n",
    "\n",
    "On va procéder en 2 étapes :\n",
    "* **Analyse technique et nettoyage des données** : Le but étant d'avoir un dataset le plus exploitable possible sans aucunes considération métier ou éthique\n",
    "* **Adaptation du dataset** : La prise en compte des contraintes métier et réglementaire ainsi que les décisions éthique pour la modification de ce dataset afin qu'il réponde à ces 3 paramètres\n",
    "\n",
    "Remarques :"
   ]
  },
  {
   "cell_type": "markdown",
   "id": "b2d2fb183bcdf9b0",
   "metadata": {},
   "source": [
    "## Bootstrap\n",
    "Ces bloc sont à exécuter pour installer et charger les dépendances"
   ]
  },
  {
   "cell_type": "code",
   "id": "9b4b649d60f71fbc",
   "metadata": {},
   "source": [
    "# Preparation de l'environnement\n",
    "!pip install -r requirements.txt"
   ],
   "outputs": [],
   "execution_count": null
  },
  {
   "cell_type": "code",
   "id": "ae686984614eac51",
   "metadata": {},
   "source": [
    "# Chargement des modules\n",
    "import pandas as pd\n",
    "import missingno as msno\n",
    "import seaborn as sns\n",
    "import matplotlib.pyplot as plt\n",
    "import numpy as np\n",
    "from sklearn.impute import KNNImputer\n"
   ],
   "outputs": [],
   "execution_count": null
  },
  {
   "cell_type": "markdown",
   "id": "58f8c11b00d1650f",
   "metadata": {},
   "source": [
    "## Chargement des données et affichage des données brutes"
   ]
  },
  {
   "cell_type": "code",
   "id": "6f1a4b8b2767c264",
   "metadata": {},
   "source": [
    "df = pd.read_csv('data/dataset.csv')\n",
    "# Suppression des doublons des le début\n",
    "df.drop_duplicates(inplace=True)\n",
    "print(f\"Le dataset comporte {df.shape[0]} lignes et {df.shape[1]} colonnes\")"
   ],
   "outputs": [],
   "execution_count": null
  },
  {
   "cell_type": "code",
   "id": "78d205ce91299d6e",
   "metadata": {},
   "source": [
    "df.head()"
   ],
   "outputs": [],
   "execution_count": null
  },
  {
   "cell_type": "code",
   "id": "b5982ed2d02e0bdc",
   "metadata": {},
   "source": [
    "df.describe()"
   ],
   "outputs": [],
   "execution_count": null
  },
  {
   "cell_type": "code",
   "id": "95cf7b2bbc1b2a08",
   "metadata": {},
   "source": [
    "def calcul_taux_manquant():\n",
    "    total_rows = df.shape[0]\n",
    "    # Calcul des pourcentage de lignes manquantes\n",
    "    historique_credits_rows = df[\"historique_credits\"].count()\n",
    "    situation_familiale_rows = df[\"situation_familiale\"].count()\n",
    "    score_credit_rows = df[\"score_credit\"].count()\n",
    "    loyer_mensuel_rows = df[\"loyer_mensuel\"].count()\n",
    "    historique_credits_pc_vide = 1 - historique_credits_rows/total_rows\n",
    "    situation_familiale_pc_vide = 1 - situation_familiale_rows/total_rows\n",
    "    score_credit_pc_vide = 1 - score_credit_rows/total_rows\n",
    "    loyer_mensuel_pc_vide = 1 - loyer_mensuel_rows/total_rows\n",
    "    pc_vide = pd.DataFrame({\n",
    "        \"historique_credits\": [historique_credits_pc_vide],\n",
    "        \"situation_familiale\": [situation_familiale_pc_vide],\n",
    "        \"score_credit\": [score_credit_pc_vide],\n",
    "        \"loyer_mensuel\": [loyer_mensuel_pc_vide],\n",
    "    })\n",
    "    return pc_vide\n",
    "print(\"% données vide au chargements\")\n",
    "calcul_taux_manquant()"
   ],
   "outputs": [],
   "execution_count": null
  },
  {
   "cell_type": "markdown",
   "id": "251c80453a1137fc",
   "metadata": {},
   "source": [
    "On constate que plus de la moitier des données relatives a l'évaluation des crédits sont manquantes, le dataset étant orienté sur l'attribution du montant maximal accordé à un emprunteur ces noté sont d'une importance notable.\n",
    "Il va falloir détertminer comment on va traiter ces valeurs\n",
    "Concernant la situation_familiale et le loyer_mensuel il faut vérifier si il y'a correlation avec le montant maximum du pret accorder, en fonction de quoi cette données sera exploité ou non."
   ]
  },
  {
   "cell_type": "markdown",
   "id": "e138caa21ffe589c",
   "metadata": {},
   "source": [
    "On cherche s'il y'a correlation entre les valeurs manquantes"
   ]
  },
  {
   "cell_type": "code",
   "id": "f0313f151ce2d82f",
   "metadata": {},
   "source": [
    "msno.heatmap(df, figsize=(8, 4))"
   ],
   "outputs": [],
   "execution_count": null
  },
  {
   "cell_type": "markdown",
   "id": "442125a797158e0f",
   "metadata": {},
   "source": [
    "Il n'y a pas de correlation forte entre les données manquantes"
   ]
  },
  {
   "cell_type": "markdown",
   "id": "1c50c729b0ed6ec3",
   "metadata": {},
   "source": [
    "### Premières observations\n",
    "\n",
    "En première analyse rapide on constate :\n",
    "* Qu'il y'a un ensemble de colonnes ayant des valeurs manquantes, il faudra déterminer les impactes\n",
    "* On à des valeurs négatives pour le loyer ce qui est plutôt anormal\n",
    "* On à un percentile 25% identique au minimum pour le montant du pret, ce qui semble indiquer une forte présence de pret à 500 €\n",
    "* Le poids semble comporter des valeurs aberrantes surtout dans les valeurs les plus petites\n",
    "\n",
    "Il faudra confirmer ou infirmer ces tendances."
   ]
  },
  {
   "cell_type": "code",
   "id": "cfc953b0426c2ced",
   "metadata": {},
   "source": [
    "# df.drop(['nom', 'prenom', 'date_creation_compte'], axis=1, inplace=True)\n",
    "df.head()"
   ],
   "outputs": [],
   "execution_count": null
  },
  {
   "cell_type": "markdown",
   "id": "7e85b77f5d163d8d",
   "metadata": {},
   "source": [
    "## Analyse de la distribution des valeurs\n",
    "\n",
    "On trace les histogramme de chaque features histoire de voir rapidement la distribution des valeurs"
   ]
  },
  {
   "cell_type": "code",
   "id": "74045bc48e6de0b",
   "metadata": {},
   "source": [
    "# Determine le nombre de colonne souhaité pour l'affichage du subplot\n",
    "num_features = df.shape[1] # nombre de features\n",
    "num_cols = 3 # nombre de colonnes\n",
    "num_rows = (num_features + num_cols - 1) // num_cols # nombre de lignes\n",
    "\n",
    "plt.figure(figsize=(num_cols * 5, num_rows * 4)) # On définie la largeur et hauteur des graphe en fonction des valeurs\n",
    "\n",
    "for i, column in enumerate(df.columns):\n",
    "    plt.subplot(num_rows, num_cols, i + 1)\n",
    "    sns.histplot(df[column])\n",
    "    plt.title(f'Histogramme de {column}')\n",
    "    plt.xlabel(column)\n",
    "    plt.ylabel('Fréquence')\n",
    "\n",
    "plt.tight_layout()"
   ],
   "outputs": [],
   "execution_count": null
  },
  {
   "cell_type": "markdown",
   "id": "ea3a9cae592c61f8",
   "metadata": {},
   "source": [
    "Il apparait que les données sont globalement correctement distribuées, il y'a cependant quelques features qui semble avoir des données étranges pour les revenus_estimes, le montant_pret et le loyer_mensuel.\n",
    "Le cas de la nationalité est un peu plus complexe car on ne connais pas exactement comment à été construit le dataset, cette valeur necessitera une analyse plus appronfondi en fonction du contexte de l'obtention de celui-ci.\n",
    "\n",
    "### revenu estime mois\n",
    "\n",
    "On zoom sur la partie basse du graphe pour trouver la valeur la plus représentée"
   ]
  },
  {
   "cell_type": "code",
   "id": "1b564e32022829fa",
   "metadata": {},
   "source": [
    "sns.histplot(df[df['revenu_estime_mois'] <= 1000]['revenu_estime_mois'])"
   ],
   "outputs": [],
   "execution_count": null
  },
  {
   "cell_type": "markdown",
   "id": "a7037221f9f8284b",
   "metadata": {},
   "source": [
    "On constate une trés forte de concentration de revenue à 500 €, on vérifie ca avec des valeurs numériques"
   ]
  },
  {
   "cell_type": "code",
   "id": "9db9b11a5e92675",
   "metadata": {},
   "source": [
    "print(\"Revenus = 500 :\", df[df['revenu_estime_mois'] == 500]['revenu_estime_mois'].count())\n",
    "print(\"Revenus entre 501 et 1000 :\", df[(df['revenu_estime_mois'] > 500) & (df['revenu_estime_mois'] <= 1000)]['revenu_estime_mois'].count())\n",
    "df[df['revenu_estime_mois'] <= 1000]['revenu_estime_mois'].value_counts(bins=[0.0, 500, 600, 700, 800, 900, 1000], sort=False)"
   ],
   "outputs": [],
   "execution_count": null
  },
  {
   "cell_type": "markdown",
   "id": "fde55ccc58d49190",
   "metadata": {},
   "source": [
    "On constate que la majorité des bas revenue sont plutôt autour de 500, on peux considérer que cette valeurs est une valeur."
   ]
  },
  {
   "cell_type": "markdown",
   "id": "44f767791bae0012",
   "metadata": {},
   "source": [
    "On va regarder rapidement si il y'a une correlation entre les revenues faible et le montant des pret accordés autour de 500, le cas des montant de pret sera traité plus loins dans ce document."
   ]
  },
  {
   "cell_type": "code",
   "id": "42bcdcc88cb1dc27",
   "metadata": {},
   "source": [
    "df_bas_revenue = df[df['revenu_estime_mois'] <= 1000]\n",
    "df_bas_revenue[['revenu_estime_mois', 'montant_pret']].corr()\n"
   ],
   "outputs": [],
   "execution_count": null
  },
  {
   "cell_type": "code",
   "id": "b015a41f773842c0",
   "metadata": {},
   "source": [
    "df[['revenu_estime_mois', 'montant_pret']].corr()"
   ],
   "outputs": [],
   "execution_count": null
  },
  {
   "cell_type": "markdown",
   "id": "400ec457e9daa063",
   "metadata": {},
   "source": [
    "Il ne semble pas y avoir de correlation franche entre les faible revenus et le montant du pret pour ceux ci, contrairement à la situation pour tout le dataset. On ne peux pas établir que les petit revenus donne lieux uniquement à des pret de 500."
   ]
  },
  {
   "cell_type": "markdown",
   "id": "cd49dc9650a168b9",
   "metadata": {},
   "source": [
    "### Loyer mensuel\n",
    "\n",
    "On voit 2 pics sur les loyers mensuels, beaucoup de loyer à 5000 et à 10000"
   ]
  },
  {
   "cell_type": "code",
   "id": "c054eb3d19f60583",
   "metadata": {},
   "source": [
    "df[df['loyer_mensuel'] > 4000]['loyer_mensuel'].value_counts()"
   ],
   "outputs": [],
   "execution_count": null
  },
  {
   "cell_type": "markdown",
   "id": "46003baf276520c5",
   "metadata": {},
   "source": [
    "Une winsorisation des valeurs de loyer n'aurais pas de sens car trop de valeurs hors limites supérieur sont présentes, le 99eme quantil reste à 10000.\n"
   ]
  },
  {
   "cell_type": "code",
   "id": "516e2ba48ead1faf",
   "metadata": {},
   "source": [
    "q1 = df['loyer_mensuel'].quantile(0.01)\n",
    "print(f\"Quantile = {q1}\")\n",
    "q99 = df['loyer_mensuel'].quantile(0.99)\n",
    "print(f\"Quantile = {q99}\")"
   ],
   "outputs": [],
   "execution_count": null
  },
  {
   "cell_type": "markdown",
   "id": "5727229fb75c487c",
   "metadata": {},
   "source": [
    "On regarde la distribution des valeurs en excluant ce valeurs extremes."
   ]
  },
  {
   "cell_type": "code",
   "id": "545946ea6c5055e1",
   "metadata": {},
   "source": [
    "sns.histplot(df[df['loyer_mensuel'] < 5000]['loyer_mensuel'])"
   ],
   "outputs": [],
   "execution_count": null
  },
  {
   "cell_type": "code",
   "id": "8d30b336183a0189",
   "metadata": {},
   "source": [
    "sns.scatterplot(data=df[df['loyer_mensuel'] < 5000], x='loyer_mensuel', y='revenu_estime_mois', hue='region')"
   ],
   "outputs": [],
   "execution_count": null
  },
  {
   "cell_type": "markdown",
   "id": "ed2b993732c85f4e",
   "metadata": {},
   "source": [
    "Il n'y a pas de correlation franche entre les revenus estimé et la region avec les loyers mensuel.\n",
    "On va utiliser les plus proche voisins pour reconstruire les montants des loyers pour les valeurs extremes.\n",
    "\n",
    "On décide de se baser sur la region et le revenu_estime_mois\n"
   ]
  },
  {
   "cell_type": "code",
   "id": "c4ec8d1fc28eae16",
   "metadata": {},
   "source": [
    "df[\"region\"].unique()"
   ],
   "outputs": [],
   "execution_count": null
  },
  {
   "cell_type": "code",
   "id": "50cc1eb6a74e0e8",
   "metadata": {},
   "source": [
    "df['region_num'] = df['region'].map({\n",
    "    'Occitanie': 0,\n",
    "    'Île-de-France': 1,\n",
    "    'Auvergne-Rhône-Alpes': 2,\n",
    "    'Corse': 3,\n",
    "    'Bretagne': 4,\n",
    "    'Hauts-de-France': 5,\n",
    "    'Provence-Alpes-Côte d’Azur': 6,\n",
    "    'Normandie': 7\n",
    "})"
   ],
   "outputs": [],
   "execution_count": null
  },
  {
   "cell_type": "code",
   "id": "d53c10bac17bf13c",
   "metadata": {},
   "source": [
    "# pd.to_numeric(df[df['loyer_mensuel'] >= 5000]['loyer_mensuel']).unique()\n",
    "df[df['loyer_mensuel'] >= 5000]['loyer_mensuel'].info()"
   ],
   "outputs": [],
   "execution_count": null
  },
  {
   "cell_type": "code",
   "id": "255f4489eb1139c5",
   "metadata": {},
   "source": [
    "# On met à balcn les valeurs extremes\n",
    "df.loc[df['loyer_mensuel'] >= 5000, 'loyer_mensuel'] = np.nan\n",
    "\n",
    "imputer = KNNImputer(n_neighbors=5)\n",
    "df[[\"revenu_estime_mois\", \"region_num\", \"loyer_mensuel\"]] = imputer.fit_transform(\n",
    "    df[[\"revenu_estime_mois\", \"region_num\", \"loyer_mensuel\"]]\n",
    ")\n",
    "\n",
    "# On supprime la colonne temporaire 'region_num' utilisé juste pour les calcules\n",
    "df.drop('region_num', axis=1, inplace=True)"
   ],
   "outputs": [],
   "execution_count": null
  },
  {
   "cell_type": "code",
   "id": "718d3a753fcaee9d",
   "metadata": {},
   "source": [
    "sns.histplot(df['loyer_mensuel'])"
   ],
   "outputs": [],
   "execution_count": null
  },
  {
   "cell_type": "markdown",
   "id": "763e862ccdc2822",
   "metadata": {},
   "source": [
    "Cette fois ci, on va faire une winsorisation"
   ]
  },
  {
   "cell_type": "code",
   "id": "784f2fac90adf9d",
   "metadata": {},
   "source": [
    "q1 = df['loyer_mensuel'].quantile(0.01)\n",
    "print(f\"Quantile = {q1}\")\n",
    "q99 = df['loyer_mensuel'].quantile(0.99)\n",
    "print(f\"Quantile = {q99}\")\n",
    "df['loyer_mensuel'] = np.clip(df['loyer_mensuel'], q1, q99)\n",
    "sns.histplot(df['loyer_mensuel'])"
   ],
   "outputs": [],
   "execution_count": null
  },
  {
   "cell_type": "code",
   "id": "a5395d55b7fa131",
   "metadata": {},
   "source": [
    "calcul_taux_manquant()"
   ],
   "outputs": [],
   "execution_count": null
  },
  {
   "cell_type": "markdown",
   "id": "6f5e13f23797da9e",
   "metadata": {},
   "source": [
    "On à ramener à 0 le nombre de loyen mensuel manquant grace aux estimations"
   ]
  },
  {
   "cell_type": "markdown",
   "id": "daac2c56a89ad27c",
   "metadata": {},
   "source": [
    "### montant de pret\n",
    "\n",
    "On constate un grand pic de pret dans les montants inférieurs, on affine l'analyse."
   ]
  },
  {
   "cell_type": "code",
   "id": "f88c166fd8ebdb90",
   "metadata": {},
   "source": [
    "sns.histplot(df[df['montant_pret'] <= 10000]['montant_pret'])"
   ],
   "outputs": [],
   "execution_count": null
  },
  {
   "cell_type": "code",
   "id": "8104f3ba5ceb184c",
   "metadata": {},
   "source": [
    "sns.histplot(df[df['montant_pret'] <= 1000]['montant_pret'])\n",
    "plt.show()\n",
    "df[df['montant_pret'] <= 1000]['montant_pret'].value_counts(bins=[0.0, 500, 600, 700, 800, 900, 1000], sort=False)"
   ],
   "outputs": [],
   "execution_count": null
  },
  {
   "cell_type": "markdown",
   "id": "88b5853781b93a25",
   "metadata": {},
   "source": [
    "On constate une grande présence de pret à 500, ce sont des pret de faible valeurs, on conserve ces valeurs inchangée car on considère que ce sont des prêt standard."
   ]
  },
  {
   "cell_type": "code",
   "id": "3710aa89bf701f19",
   "metadata": {},
   "source": [
    "df_imputer = df.copy()\n",
    "# On applique l'imputer KNNImputer\n",
    "imputer = KNNImputer(n_neighbors=5)\n",
    "df_imputer[[\"age\", \"revenu_estime_mois\",  \"risque_personnel\", \"montant_pret\", \"historique_credits\"]] = imputer.fit_transform(\n",
    "    df_imputer[[\"age\", \"revenu_estime_mois\",  \"risque_personnel\", \"montant_pret\", \"historique_credits\"]]\n",
    ")\n",
    "# L'imputer travaillant sur des nombre flottant, on converti la colonne en antier pour rester cohérent dans les données.\n",
    "df_imputer['historique_credits'] = df_imputer['historique_credits'].astype(int)\n",
    "\n",
    "sns.histplot(df_imputer['historique_credits'])"
   ],
   "outputs": [],
   "execution_count": null
  },
  {
   "cell_type": "markdown",
   "id": "ea3ba306dd00a876",
   "metadata": {},
   "source": [
    "On constate une modification significative de la distribution, on va donc ignorer cette méthode, pour la suite du traitement on va supprimer les lignes ou ce score est manquant, mais avant on conserve le dataset en l'état pour le calcul du score_credit."
   ]
  },
  {
   "cell_type": "markdown",
   "id": "391f84d499564c5f",
   "metadata": {},
   "source": [
    "### Determination de correlation entre historique_credits et score_credit\n",
    "\n",
    "On va utiliser ici une méthode manuelle à des fins d'apprentissage, voir si on a une relation entre ces 2 valeurs, ca permettra de déterminer comment on pourrait éventuellement reconstruire les valeurs manquantes\n"
   ]
  },
  {
   "cell_type": "code",
   "id": "cb1b14b3c0fedbbb",
   "metadata": {},
   "source": [
    "df_histo_score_credit = df[df[\"historique_credits\"].notna() & df[\"score_credit\"].notna()]\n",
    "print(df_histo_score_credit.shape)\n",
    "nb_full_ligne = df_histo_score_credit.shape[0]\n",
    "sns.pointplot(data=df_histo_score_credit, x=\"historique_credits\", y=\"score_credit\", linestyles='none')"
   ],
   "outputs": [],
   "execution_count": null
  },
  {
   "metadata": {},
   "cell_type": "markdown",
   "source": [
    "### Calcul de l'historique credit manquant\n",
    "\n",
    "Pour cela on va travailler sur une copie des données et utiliser le KNNImputer pour reconstruire les valeurs manquantes basé sur l'age, le revenu estimé, le risque personnel et le montant du pret.\n",
    "\n",
    "De cette manière on pourra estimer si il est pertinent d'utiliser cette méthode."
   ],
   "id": "3e80b7677112110c"
  },
  {
   "cell_type": "markdown",
   "id": "558b80f8b820907f",
   "metadata": {},
   "source": [
    "Par rapport aux données existantes il semble y avoir une tendance qui se dessine entre l'historique de crédit et le score crédit. On semble plus faire confiance aux personnes qui n'ont pas de crédit ou qui en ont fait l'exprerience a plusieurs reprises."
   ]
  },
  {
   "cell_type": "markdown",
   "id": "23fbf8054ffbd54d",
   "metadata": {},
   "source": [
    "On va tenter d'obtenir des valeurs plus précise sur cette éventuelle correlation. Voyons avec des valeurs numériques."
   ]
  },
  {
   "cell_type": "code",
   "id": "4dcad54915f7f657",
   "metadata": {},
   "source": [
    "df_histo_score_credit.groupby(\"historique_credits\")[\"score_credit\"].describe()"
   ],
   "outputs": [],
   "execution_count": null
  },
  {
   "cell_type": "markdown",
   "id": "30b88815f3943d74",
   "metadata": {},
   "source": [
    "Ca semble confirmer ce qui apparaissait visuellement dans le graphe, on peux essayer de recontruire les valeurs manquantes sur ces bases. On va prendre la moyenne comme valeur appliquée.\n",
    "\n",
    "On ne peut appliquer ces valeurs qu'aux colonnes dont l'historique crédit est définie mais pas le score crédit. On va vérifier si beaucoup de lignes sont dans ce cas"
   ]
  },
  {
   "cell_type": "code",
   "id": "fbe99fc2e68a4864",
   "metadata": {},
   "source": [
    "print(df[df[\"historique_credits\"].notna() & df[\"score_credit\"].isna()].shape)"
   ],
   "outputs": [],
   "execution_count": null
  },
  {
   "cell_type": "markdown",
   "id": "8af42aae02d17ffd",
   "metadata": {},
   "source": [
    "2520 lignes sont dans ce cas, On va donc faire la substitution\n"
   ]
  },
  {
   "cell_type": "code",
   "id": "b3d500a3ae2136fa",
   "metadata": {},
   "source": [
    "# On substitue les valeurs vides avec les valeurs calculées\n",
    "df.loc[(df[\"historique_credits\"] == 0.0) & df[\"score_credit\"].isna(), 'score_credit'] = 580\n",
    "df.loc[(df[\"historique_credits\"] == 1.0) & df[\"score_credit\"].isna(), 'score_credit'] = 553\n",
    "df.loc[(df[\"historique_credits\"] == 2.0) & df[\"score_credit\"].isna(), 'score_credit'] = 577\n",
    "df.loc[(df[\"historique_credits\"] == 3.0) & df[\"score_credit\"].isna(), 'score_credit'] = 581\n",
    "df.loc[(df[\"historique_credits\"] == 4.0) & df[\"score_credit\"].isna(), 'score_credit'] = 576\n",
    "df.loc[(df[\"historique_credits\"] == 5.0) & df[\"score_credit\"].isna(), 'score_credit'] = 557\n",
    "\n",
    "# On vérifie que les valeurs sont correctement substitué\n",
    "print(df[df[\"historique_credits\"].notna() & df[\"score_credit\"].isna()].shape)"
   ],
   "outputs": [],
   "execution_count": null
  },
  {
   "cell_type": "markdown",
   "id": "5e9b426ffef354af",
   "metadata": {},
   "source": [
    "Le résultatindique bien qu'il n'y à plus de lignes où `score_credit` est vide lorsqu'on à une valeur dans `historique_credit`.\n",
    "\n",
    "On va maintenant comparer les valeurs de substitution avec les données réelles lorsque les deux valeurs sont présentes, très logiquement il ne devrait pas y avoir de gros eccarts dans les moyennes et l'eccart type devrait se réduire car on insère beaucoup de valeurs moyennes."
   ]
  },
  {
   "cell_type": "code",
   "id": "afa32ea2750a2cc2",
   "metadata": {},
   "source": [
    "df_histo_score_credit_rebuild = df[df[\"historique_credits\"].notna() & df[\"score_credit\"].notna()]\n",
    "print(df_histo_score_credit_rebuild.shape)\n",
    "nb_full_ligne_rebuild = df_histo_score_credit_rebuild.shape[0]\n",
    "print(\"nombre de ligne reconstruite : \", nb_full_ligne_rebuild - nb_full_ligne)\n",
    "# Nombre de ligne complétée\n",
    "sns.pointplot(data=df_histo_score_credit_rebuild, x=\"historique_credits\", y=\"score_credit\", linestyles='none')\n",
    "plt.show()\n",
    "df_histo_score_credit_rebuild.groupby(\"historique_credits\")[\"score_credit\"].describe()"
   ],
   "outputs": [],
   "execution_count": null
  },
  {
   "cell_type": "markdown",
   "id": "5bd3ae7f97d7ed06",
   "metadata": {},
   "source": [
    "Comme prévu les moyennes ont peu bougées et l'eccart type s'est reserré.\n",
    "\n"
   ]
  },
  {
   "cell_type": "markdown",
   "id": "f655a8924184d5c4",
   "metadata": {},
   "source": [
    "#### Conclusion\n",
    "\n",
    "On va conserver cette approche pour compléter le score crédit pour la suite du traitement.\n"
   ]
  },
  {
   "cell_type": "code",
   "id": "e86db2981c3728c8",
   "metadata": {},
   "source": [
    "calcul_taux_manquant()"
   ],
   "outputs": [],
   "execution_count": null
  },
  {
   "cell_type": "markdown",
   "id": "6ddd5d37a2de7178",
   "metadata": {},
   "source": [
    "On a pu réduire de moitier l'absence de valeur pour le score crédit.\n",
    "\n",
    "Maintenant on peux supprimer toutes les lignes où historique_credits n'est pas définie."
   ]
  },
  {
   "cell_type": "code",
   "id": "430a3ba45b29bfe9",
   "metadata": {},
   "source": [
    "df = df.dropna(subset=['historique_credits'])\n",
    "calcul_taux_manquant()"
   ],
   "outputs": [],
   "execution_count": null
  },
  {
   "cell_type": "markdown",
   "id": "bbe3d6ecaf2fa979",
   "metadata": {},
   "source": [
    "### Situation familiale\n",
    "\n",
    "On a vu que la distribution de cette ligne est trés uniforme, on choisis de mettre des valeurs aléatoire parmi celle existante lorsque la valeur n'est pas définie. On pourrait prendre la valeur la plus représenter via un imputer, mais ca risquerait de déséquilibré le dataset."
   ]
  },
  {
   "cell_type": "code",
   "id": "6e6c337fe18fb650",
   "metadata": {},
   "source": [
    "np.random.seed(42) # On fixe la seed pseudo aléatoire sur la réponse à la grande question, qu'est ce que la vie, l'univers et tout le reste. Ceci afin de garantir d'avoir une reconstruction identique à chaque éxecution.\n",
    "type_situation = df[df['situation_familiale'].notna()]['situation_familiale'].unique() # determination de la liste des valeurs possibles\n",
    "print(type_situation)\n",
    "taille_isna=df['situation_familiale'].isna().sum() # nombre de ligne vide\n",
    "print(taille_isna)\n",
    "tableau_random = np.random.choice(type_situation, taille_isna) # creer un tableau de valeur aléatoire\n",
    "df.loc[df['situation_familiale'].isna(), 'situation_familiale'] = tableau_random # on bourre les valeur vide avec les valeurs aléatoire récupérées\n",
    "\n",
    "calcul_taux_manquant()\n"
   ],
   "outputs": [],
   "execution_count": null
  },
  {
   "cell_type": "markdown",
   "id": "a593fff4811c82f9",
   "metadata": {},
   "source": [
    "### Traitement de nottoyage simple des colonnes taille et poids\n",
    "\n",
    "Les colonnes ayant quelques valeurs aberrantes en faible quantités, on va appliquer la winsorisation à celle-ci pour les remettre dans les valeurs correctes"
   ]
  },
  {
   "cell_type": "code",
   "id": "cab10238ebe1aa11",
   "metadata": {},
   "source": [
    "for colonne in ['poids', 'taille']:\n",
    "    q1 = df[colonne].quantile(0.01)\n",
    "    print(f\"Quantile {colonne} = {q1}\")\n",
    "    q99 = df[colonne].quantile(0.99)\n",
    "    print(f\"Quantile {colonne} = {q99}\")\n",
    "    df[colonne] = np.clip(df[colonne], q1, q99)\n"
   ],
   "outputs": [],
   "execution_count": null
  },
  {
   "cell_type": "markdown",
   "id": "f814160d030e95eb",
   "metadata": {},
   "source": [
    "### Conclusion\n",
    "\n",
    "On à pu recontruire un dataset complet en faisant différent choix de reconstruction et de suppression de données. On enregistre celui-ci sous le nom `reconstructed_dataset.csv` dans le dossier data.\n",
    "\n"
   ]
  },
  {
   "cell_type": "code",
   "id": "64ce478f9ff447fd",
   "metadata": {},
   "source": [
    "df.to_csv('data/00-reconstructed-dataset.csv', index=False, encoding='utf-8-sig')"
   ],
   "outputs": [],
   "execution_count": null
  },
  {
   "cell_type": "markdown",
   "id": "4e8cf09598215e61",
   "metadata": {},
   "source": [
    "## Analyse éthique\n",
    "\n",
    "Maintenant qu'on à un dataset reconstruit, on va faire une étude de corrélation pour voir les critère qui font varier les montant de pret maximaux.\n",
    "On utilise un ensemble de pairgrid pour avoir un apperçu rapide.\n",
    "\n",
    "On reviendra sur une étude plus précise si on constate des valeurs un peu complexe à analyser."
   ]
  },
  {
   "cell_type": "code",
   "id": "11fccfd03bd3155f",
   "metadata": {},
   "source": [
    "# au lieu d'utiliser map, cette fois ci on utilise factorize.\n",
    "# df['sexe_num'], labels_uniques = pd.factorize(df['sexe'])\n",
    "# print(labels_uniques)\n",
    "# df['sport_licence_num'], labels_uniques = pd.factorize(df['sport_licence'])\n",
    "# print(labels_uniques)\n",
    "# df['niveau_etude_num'], labels_uniques = pd.factorize(df['niveau_etude'])\n"
   ],
   "outputs": [],
   "execution_count": null
  },
  {
   "cell_type": "markdown",
   "id": "460ddbeaf0be0319",
   "metadata": {},
   "source": [
    "#### On regarde si la situation familiale a une influence."
   ]
  },
  {
   "cell_type": "code",
   "id": "2c8022724f156926",
   "metadata": {
    "scrolled": true
   },
   "source": [
    "sns.pairplot(df, hue='situation_familiale')"
   ],
   "outputs": [],
   "execution_count": null
  },
  {
   "cell_type": "markdown",
   "id": "36bf1bc2c1ce3d7b",
   "metadata": {},
   "source": [
    "Visiblement pas d'influence notable.\n",
    "\n",
    "**On supprime cette données du dataset**"
   ]
  },
  {
   "cell_type": "code",
   "id": "56c59d79a61a44f9",
   "metadata": {},
   "source": [
    "# On supprime la colonne\n",
    "df.drop('situation_familiale', axis=1, inplace=True)"
   ],
   "outputs": [],
   "execution_count": null
  },
  {
   "cell_type": "markdown",
   "id": "63adac3f8d49fbda",
   "metadata": {},
   "source": [
    "#### Influence du sexe"
   ]
  },
  {
   "cell_type": "code",
   "id": "c9787a8577ab9941",
   "metadata": {
    "scrolled": true
   },
   "source": [
    "sns.pairplot(df, hue='sexe')"
   ],
   "outputs": [],
   "execution_count": null
  },
  {
   "cell_type": "markdown",
   "id": "b8a57ae53f3cfd75",
   "metadata": {},
   "source": [
    "Dans le cas du sexe, il semble se dégager un léger favoritisme pour les hommes. Cependant il est éthiquement discutable de favoriser le sexe de l'emprunteur.\n",
    "\n",
    "**On supprime donc cette valeur du dataset**\n"
   ]
  },
  {
   "cell_type": "code",
   "id": "fb37bfa47acf3186",
   "metadata": {},
   "source": [
    "# On supprime la colonne\n",
    "df.drop('sexe', axis=1, inplace=True)"
   ],
   "outputs": [],
   "execution_count": null
  },
  {
   "cell_type": "markdown",
   "id": "1f1e04a8ddd2e1df",
   "metadata": {},
   "source": [
    "#### Influence du poids"
   ]
  },
  {
   "cell_type": "code",
   "id": "1e4804c8eda20cff",
   "metadata": {
    "scrolled": true
   },
   "source": [
    "sns.pairplot(df, hue='poids')"
   ],
   "outputs": [],
   "execution_count": null
  },
  {
   "cell_type": "markdown",
   "id": "d0c8b33559e1ec4",
   "metadata": {},
   "source": [
    "Il ne semble pas y avoir de correlation entre le poids et le montant du pret, on veux tout de même vérifier via une correlation car pour les assurance lié à la santé c'est un critère pris en compte. On double check la valeur pour éviter une mauvaise interpretation.\n"
   ]
  },
  {
   "cell_type": "code",
   "id": "b2b835ccd627809e",
   "metadata": {},
   "source": [
    "df[['poids', 'montant_pret']].corr()"
   ],
   "outputs": [],
   "execution_count": null
  },
  {
   "cell_type": "markdown",
   "id": "19ab1f68452128d6",
   "metadata": {},
   "source": [
    "Le poids n'a pas d'inflkuence sur le montant du pret\n",
    "\n",
    "**On supprime cette colonne du dataset**"
   ]
  },
  {
   "cell_type": "code",
   "id": "6f0d9313832b3d95",
   "metadata": {},
   "source": [
    "df.drop('poids', axis=1, inplace=True)"
   ],
   "outputs": [],
   "execution_count": null
  },
  {
   "cell_type": "markdown",
   "id": "8cb589c32a268c19",
   "metadata": {},
   "source": [
    "#### Influence de la taille"
   ]
  },
  {
   "cell_type": "code",
   "id": "6b488098f18a27e3",
   "metadata": {
    "scrolled": true
   },
   "source": [
    "sns.pairplot(df, hue='taille')"
   ],
   "outputs": [],
   "execution_count": null
  },
  {
   "cell_type": "markdown",
   "id": "71788d14862237dd",
   "metadata": {},
   "source": [
    "Là encore pas de correlation établie\n",
    "\n",
    "**On supprime la colonne**"
   ]
  },
  {
   "cell_type": "code",
   "id": "6e31441c7a234f30",
   "metadata": {},
   "source": [
    "df.drop('taille', axis=1, inplace=True)"
   ],
   "outputs": [],
   "execution_count": null
  },
  {
   "cell_type": "markdown",
   "id": "b7bb04fccf593946",
   "metadata": {},
   "source": [
    "#### Influence de la pratique sportive"
   ]
  },
  {
   "cell_type": "code",
   "id": "961f0b0c8e22d9a0",
   "metadata": {
    "scrolled": true
   },
   "source": [
    "sns.pairplot(df, hue='sport_licence')"
   ],
   "outputs": [],
   "execution_count": null
  },
  {
   "cell_type": "markdown",
   "id": "55a28d3833e919ea",
   "metadata": {},
   "source": [
    "Il semble y avoir une légère correlation entre le montant préter et la pratique sportive. On vérifie via la correlation."
   ]
  },
  {
   "cell_type": "code",
   "id": "624c842660add59a",
   "metadata": {},
   "source": [
    "df['sport_num'] = df['sport_licence'].map({\n",
    "    'non': 0,\n",
    "    'oui': 1\n",
    "})\n",
    "df[['montant_pret', 'sport_num']].corr()"
   ],
   "outputs": [],
   "execution_count": null
  },
  {
   "cell_type": "markdown",
   "id": "16ce3133265af4a2",
   "metadata": {},
   "source": [
    "Il y'a effectivement une légère correlation entre ces 2 facteurs, cependant on choisis de ne pas le prendre en compte car ça concerne la vie privé de l'emprunteur.\n",
    "\n",
    "**On supprime cette colonne**"
   ]
  },
  {
   "cell_type": "code",
   "id": "1a7a13cfca285301",
   "metadata": {},
   "source": [
    "df.drop(['sport_licence', 'sport_num'], axis=1, inplace=True)"
   ],
   "outputs": [],
   "execution_count": null
  },
  {
   "cell_type": "markdown",
   "id": "500acd86cdcab054",
   "metadata": {},
   "source": [
    "#### Influence de l'age"
   ]
  },
  {
   "cell_type": "code",
   "id": "92c047161ba85473",
   "metadata": {
    "scrolled": true
   },
   "source": [
    "sns.pairplot(df, hue='age')"
   ],
   "outputs": [],
   "execution_count": null
  },
  {
   "cell_type": "markdown",
   "id": "a5f05607-7df3-484b-b24e-7fdaad253654",
   "metadata": {},
   "source": []
  },
  {
   "cell_type": "markdown",
   "id": "31a3b941-0d07-480a-80ed-d973156247d3",
   "metadata": {},
   "source": [
    "Il ne semble pas y avoir de correlation entre l'age et le montant du pret\n",
    "\n",
    "**On supprime cette colonne**"
   ]
  },
  {
   "cell_type": "code",
   "id": "06c85a27-afff-4bed-8d12-7a4eafad2cc8",
   "metadata": {},
   "source": [
    "df.drop('age', axis=1, inplace=True)"
   ],
   "outputs": [],
   "execution_count": null
  },
  {
   "cell_type": "markdown",
   "id": "cecf3d2a1fa00a51",
   "metadata": {},
   "source": [
    "#### Influence de fumeur ou non"
   ]
  },
  {
   "cell_type": "code",
   "id": "95608da1af4c8a92",
   "metadata": {
    "scrolled": true
   },
   "source": [
    "sns.pairplot(df, hue='smoker')"
   ],
   "outputs": [],
   "execution_count": null
  },
  {
   "cell_type": "markdown",
   "id": "8f10665c34a93be5",
   "metadata": {},
   "source": [
    "On constate que le status fumeur à une influence sur le montant du pret\n",
    "\n",
    "**On conserve cette valeur dans le dataset car c'est un facteur de risque important sur le remboursement du pret**"
   ]
  },
  {
   "cell_type": "markdown",
   "id": "71eacaa5-97e4-492d-94e3-57c1fd5afbfb",
   "metadata": {},
   "source": [
    "#### Influence du revenu mensuel estime"
   ]
  },
  {
   "cell_type": "code",
   "id": "21a8576d-84da-4d4f-a080-66570a6e725f",
   "metadata": {
    "scrolled": true
   },
   "source": [
    "sns.pairplot(df, hue='revenu_estime_mois')"
   ],
   "outputs": [],
   "execution_count": null
  },
  {
   "cell_type": "markdown",
   "id": "b95de9cf-9a18-4ec0-8b03-26b7ebc37f2e",
   "metadata": {},
   "source": [
    "Il semble y avoir une correlation entre le montant du pret et le revenu mensuel. On vérifie."
   ]
  },
  {
   "cell_type": "code",
   "id": "167cc784-449b-44ae-a492-cee7ca638a0e",
   "metadata": {},
   "source": [
    "df[['montant_pret', 'revenu_estime_mois']].corr()"
   ],
   "outputs": [],
   "execution_count": null
  },
  {
   "cell_type": "markdown",
   "id": "59c13681-d48f-40a1-9aa0-4b09a6fa44f1",
   "metadata": {},
   "source": [
    "Il y'a bien correlation.\n",
    "\n",
    "**On concerve cette colonne**"
   ]
  },
  {
   "cell_type": "markdown",
   "id": "4a50c49e-837d-4cd8-ad1a-692495ec1177",
   "metadata": {},
   "source": [
    "#### Correlation du niveau d'étude\n",
    "\n",
    "On part du postulat que les revenu estimé sont correlé au niveau d'étude, on vérifie que c'est bien le cas"
   ]
  },
  {
   "cell_type": "code",
   "id": "684d38e9-b383-42b9-bf8f-1389159f9fe7",
   "metadata": {
    "scrolled": true
   },
   "source": [
    "sns.scatterplot(x=df['revenu_estime_mois'], y=df['niveau_etude'])"
   ],
   "outputs": [],
   "execution_count": null
  },
  {
   "cell_type": "code",
   "id": "4dbe168d-28d5-494a-bcee-d906d2075831",
   "metadata": {},
   "source": [
    "df['etude_num'] = df['niveau_etude'].map({\n",
    "    'aucun': 0,\n",
    "    'bac': 1,\n",
    "    'bac+2': 2,\n",
    "    'master': 3,\n",
    "    'doctorat': 4\n",
    "})\n",
    "df[['etude_num', 'revenu_estime_mois']].corr()"
   ],
   "outputs": [],
   "execution_count": null
  },
  {
   "cell_type": "markdown",
   "id": "0454a298-5998-4e5c-bd5d-9c7ae6cedab4",
   "metadata": {},
   "source": [
    "Visiblement il n'y a pas de correlation entre les revenus mensuels et le niveau d'étude dans le dataset. On ne peux pas abandonné cette valeur sous pretexte qu'elle est corrélé au revenue mensuel.\n",
    "\n",
    "On nettoie la colonne numérique"
   ]
  },
  {
   "cell_type": "code",
   "id": "977b8c2a-f6d1-4942-a2f9-226ed937f094",
   "metadata": {},
   "source": "df.drop('etude_num', axis=1, inplace=True)",
   "outputs": [],
   "execution_count": null
  },
  {
   "cell_type": "code",
   "id": "b6083205-3948-4c63-a1b6-7eadb6785c0c",
   "metadata": {},
   "source": [
    "#### relation avec la region"
   ],
   "outputs": [],
   "execution_count": null
  },
  {
   "cell_type": "code",
   "id": "50e5bdf6-ab53-4d17-9cf2-635fbbe97ba0",
   "metadata": {
    "scrolled": true
   },
   "source": [
    "sns.pairplot(df, hue='region')"
   ],
   "outputs": [],
   "execution_count": null
  },
  {
   "cell_type": "markdown",
   "id": "08047af0-bb78-42b6-9bef-68cca375126b",
   "metadata": {},
   "source": [
    "Le montant du pret semble influencé par la région, surtout sur les pret de faible montant.\n",
    "\n",
    "**On conserve la colonne**"
   ]
  },
  {
   "cell_type": "markdown",
   "id": "bc621d57-3300-4dd5-9953-a31b4345776f",
   "metadata": {},
   "source": [
    "#### Correlation de la nationalité"
   ]
  },
  {
   "cell_type": "code",
   "id": "5abd0837-c3c8-4127-8784-d77b9dfbd4c2",
   "metadata": {
    "scrolled": true
   },
   "source": [
    "sns.pairplot(df, hue='nationalité_francaise')"
   ],
   "outputs": [],
   "execution_count": null
  },
  {
   "cell_type": "markdown",
   "id": "218dc931-43a6-4090-a2d9-48fd90c1cd41",
   "metadata": {},
   "source": [
    "Il y'a une nette correlation entre le montant des pret et la nationalité, les emprunteur non français on majoritairement des pret pas plus élevé que 500.\n",
    "\n",
    "**On va tout de même choisir d'exclure cette données car elle est descriminatoire.**"
   ]
  },
  {
   "cell_type": "code",
   "id": "4f1370d9-0f2f-467a-a3ee-c5d379715974",
   "metadata": {},
   "source": [
    "df.drop('nationalité_francaise', axis=1, inplace=True)"
   ],
   "outputs": [],
   "execution_count": null
  },
  {
   "cell_type": "markdown",
   "id": "f16e3b46-6f15-4ab9-bf17-2be4e25e5ad1",
   "metadata": {},
   "source": [
    "#### Correlation entre historique credits et score credit\n",
    "\n",
    "On regroupe ces deux colonnes car il y'a une correlation entre historique crédit et score credit. On va cependant se contenté de faire la correlation sur le score credit."
   ]
  },
  {
   "cell_type": "code",
   "id": "a372afa0-7419-44ca-a722-32d1c3a80273",
   "metadata": {
    "scrolled": true
   },
   "source": [
    "sns.pairplot(df, hue='score_credit')\n",
    "plt.show()"
   ],
   "outputs": [],
   "execution_count": null
  },
  {
   "cell_type": "code",
   "id": "4250f8b4-a931-45e8-aa6a-62c5dce1b827",
   "metadata": {},
   "source": [
    "df[['historique_credits', 'score_credit', 'montant_pret']].corr()"
   ],
   "outputs": [],
   "execution_count": null
  },
  {
   "cell_type": "markdown",
   "id": "de7ac526-8d05-4370-9e82-9235f237e5b8",
   "metadata": {},
   "source": [
    "Il semble ne pas y avoir une forte correlation entre le montant du crédit et le score crédit, cependant on va garder cette valeur car celle-ci semble importante dans le context des crédit."
   ]
  },
  {
   "cell_type": "markdown",
   "id": "890fa818-59c1-465e-9c21-744c12ab08e7",
   "metadata": {},
   "source": [
    "#### Risque personnel\n",
    "\n",
    "On cherche la correlation potentiel sur le risque personnel."
   ]
  },
  {
   "cell_type": "code",
   "id": "caa28e50-a1fa-4361-bff5-c267e4f4ff35",
   "metadata": {
    "scrolled": true
   },
   "source": [
    "sns.pairplot(df, hue='risque_personnel')"
   ],
   "outputs": [],
   "execution_count": null
  },
  {
   "cell_type": "code",
   "id": "ea80eed9-1aaf-4db2-a480-321cadb63fbf",
   "metadata": {},
   "source": [
    "df[['risque_personnel', 'montant_pret']].corr()"
   ],
   "outputs": [],
   "execution_count": null
  },
  {
   "cell_type": "markdown",
   "id": "b4195a84-69dc-464e-852d-ebbcde677938",
   "metadata": {},
   "source": [
    "Il n'y a pas de correlation entre ce risque personnel et le montant du pret.\n",
    "\n",
    "**On supprime cette colonne**"
   ]
  },
  {
   "cell_type": "code",
   "id": "484c42fb-8dd4-4a66-bd01-e23c1cedcda5",
   "metadata": {},
   "source": [
    "df.drop('risque_personnel', axis=1, inplace=True)"
   ],
   "outputs": [],
   "execution_count": null
  },
  {
   "cell_type": "markdown",
   "id": "3643ffc6-81cf-4373-83f3-a3a5b2b5e6d1",
   "metadata": {},
   "source": [
    "## Construction du dataset final\n",
    "\n",
    "On conserve les colonnes : `smoker`, `region`, `niveau_etude`, `revenu_estime_mois`, `historique_credit`, `score_credit`, `loyer_mensuel`, `montant_credit`.\n",
    "\n",
    "Apres cette analyse et comme les colonnes ont été supprimé au fur et a mesure on sauvegarde le fichier sous le nom `01-final-dataset.csv` qui pourra être utilisé pour l'entrainement d'un modèle de regression. Dans ce cas là les features seront `smoker`, `region`, `niveau_etude`, `revenu_estime_mois`, `historique_credit`, `score_credit`, `loyer_mensuel` et la target `montant_credit`.\n"
   ]
  },
  {
   "metadata": {},
   "cell_type": "code",
   "source": [
    "# On ne transforme plus smoker en valeur numérique\n",
    "# df['smoker'] = df['smoker'].map({\n",
    "#     'non': 0,\n",
    "#     'oui': 1\n",
    "# })"
   ],
   "id": "f2f187c6ae852e73",
   "outputs": [],
   "execution_count": null
  },
  {
   "cell_type": "code",
   "id": "f9cd93c7-c33c-4102-b0ee-3805080d1fcd",
   "metadata": {},
   "source": [
    "df.to_csv('data/01-final-dataset.csv', index=False, encoding='utf-8-sig')\n",
    "# On supprime nom, prenom et date_creation_compte\n",
    "df.drop(['nom', 'prenom', 'date_creation_compte'], axis=1, inplace=True)\n",
    "df.to_csv('data/training_dataset.csv', index=False, encoding='utf-8-sig')"
   ],
   "outputs": [],
   "execution_count": null
  }
 ],
 "metadata": {
  "kernelspec": {
   "display_name": "Python 3 (ipykernel)",
   "language": "python",
   "name": "python3"
  },
  "language_info": {
   "codemirror_mode": {
    "name": "ipython",
    "version": 3
   },
   "file_extension": ".py",
   "mimetype": "text/x-python",
   "name": "python",
   "nbconvert_exporter": "python",
   "pygments_lexer": "ipython3",
   "version": "3.11.13"
  }
 },
 "nbformat": 4,
 "nbformat_minor": 5
}
