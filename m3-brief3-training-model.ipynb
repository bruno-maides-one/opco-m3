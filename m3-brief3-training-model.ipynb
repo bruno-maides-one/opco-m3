{
 "cells": [
  {
   "cell_type": "code",
   "id": "initial_id",
   "metadata": {
    "collapsed": true,
    "ExecuteTime": {
     "end_time": "2025-07-27T16:15:39.701875Z",
     "start_time": "2025-07-27T16:15:39.699349Z"
    }
   },
   "source": [
    "import os\n",
    "import mlflow\n",
    "import pandas as pd\n",
    "import numpy as np\n",
    "import tensorflow as tf\n",
    "from sklearn.metrics import r2_score\n",
    "from sklearn.model_selection import train_test_split\n",
    "from sklearn.compose import make_column_transformer\n",
    "from sklearn.preprocessing import StandardScaler, OneHotEncoder\n",
    "\n"
   ],
   "outputs": [],
   "execution_count": 178
  },
  {
   "metadata": {
    "ExecuteTime": {
     "end_time": "2025-07-27T16:15:39.730463Z",
     "start_time": "2025-07-27T16:15:39.717539Z"
    }
   },
   "cell_type": "code",
   "source": [
    "DATADIR = './data'\n",
    "# Chargement du dataset\n",
    "try:\n",
    "    df = pd.read_csv(os.path.join(DATADIR, 'training_dataset.csv'))\n",
    "    print(\"Fichier 'dataset.csv' chargé avec succès.\")\n",
    "except FileNotFoundError:\n",
    "    print(\"ERREUR: Le fichier 'training_dataset.csv' est introuvable. Veuillez vérifier son emplacement.\")\n",
    "    exit()\n",
    "\n",
    "df.describe()"
   ],
   "id": "f21d5b9741a4de8f",
   "outputs": [
    {
     "name": "stdout",
     "output_type": "stream",
     "text": [
      "Fichier 'dataset.csv' chargé avec succès.\n"
     ]
    },
    {
     "data": {
      "text/plain": [
       "       revenu_estime_mois  historique_credits  score_credit  loyer_mensuel  \\\n",
       "count         4707.000000         4707.000000   4707.000000    4707.000000   \n",
       "mean          2502.972382            2.543446    570.654769     794.205957   \n",
       "std           1157.100931            1.691198    109.988345     183.799658   \n",
       "min            500.000000            0.000000    300.000000     265.203900   \n",
       "25%           1659.000000            1.000000    553.000000     684.719000   \n",
       "50%           2470.000000            3.000000    576.000000     793.052000   \n",
       "75%           3274.000000            4.000000    581.000000     904.830000   \n",
       "max           6826.000000            5.000000    848.000000    1307.961000   \n",
       "\n",
       "       montant_pret  \n",
       "count   4707.000000  \n",
       "mean    9177.451199  \n",
       "std    10765.963214  \n",
       "min      500.000000  \n",
       "25%      500.000000  \n",
       "50%     3727.548198  \n",
       "75%    16198.325704  \n",
       "max    53192.053509  "
      ],
      "text/html": [
       "<div>\n",
       "<style scoped>\n",
       "    .dataframe tbody tr th:only-of-type {\n",
       "        vertical-align: middle;\n",
       "    }\n",
       "\n",
       "    .dataframe tbody tr th {\n",
       "        vertical-align: top;\n",
       "    }\n",
       "\n",
       "    .dataframe thead th {\n",
       "        text-align: right;\n",
       "    }\n",
       "</style>\n",
       "<table border=\"1\" class=\"dataframe\">\n",
       "  <thead>\n",
       "    <tr style=\"text-align: right;\">\n",
       "      <th></th>\n",
       "      <th>revenu_estime_mois</th>\n",
       "      <th>historique_credits</th>\n",
       "      <th>score_credit</th>\n",
       "      <th>loyer_mensuel</th>\n",
       "      <th>montant_pret</th>\n",
       "    </tr>\n",
       "  </thead>\n",
       "  <tbody>\n",
       "    <tr>\n",
       "      <th>count</th>\n",
       "      <td>4707.000000</td>\n",
       "      <td>4707.000000</td>\n",
       "      <td>4707.000000</td>\n",
       "      <td>4707.000000</td>\n",
       "      <td>4707.000000</td>\n",
       "    </tr>\n",
       "    <tr>\n",
       "      <th>mean</th>\n",
       "      <td>2502.972382</td>\n",
       "      <td>2.543446</td>\n",
       "      <td>570.654769</td>\n",
       "      <td>794.205957</td>\n",
       "      <td>9177.451199</td>\n",
       "    </tr>\n",
       "    <tr>\n",
       "      <th>std</th>\n",
       "      <td>1157.100931</td>\n",
       "      <td>1.691198</td>\n",
       "      <td>109.988345</td>\n",
       "      <td>183.799658</td>\n",
       "      <td>10765.963214</td>\n",
       "    </tr>\n",
       "    <tr>\n",
       "      <th>min</th>\n",
       "      <td>500.000000</td>\n",
       "      <td>0.000000</td>\n",
       "      <td>300.000000</td>\n",
       "      <td>265.203900</td>\n",
       "      <td>500.000000</td>\n",
       "    </tr>\n",
       "    <tr>\n",
       "      <th>25%</th>\n",
       "      <td>1659.000000</td>\n",
       "      <td>1.000000</td>\n",
       "      <td>553.000000</td>\n",
       "      <td>684.719000</td>\n",
       "      <td>500.000000</td>\n",
       "    </tr>\n",
       "    <tr>\n",
       "      <th>50%</th>\n",
       "      <td>2470.000000</td>\n",
       "      <td>3.000000</td>\n",
       "      <td>576.000000</td>\n",
       "      <td>793.052000</td>\n",
       "      <td>3727.548198</td>\n",
       "    </tr>\n",
       "    <tr>\n",
       "      <th>75%</th>\n",
       "      <td>3274.000000</td>\n",
       "      <td>4.000000</td>\n",
       "      <td>581.000000</td>\n",
       "      <td>904.830000</td>\n",
       "      <td>16198.325704</td>\n",
       "    </tr>\n",
       "    <tr>\n",
       "      <th>max</th>\n",
       "      <td>6826.000000</td>\n",
       "      <td>5.000000</td>\n",
       "      <td>848.000000</td>\n",
       "      <td>1307.961000</td>\n",
       "      <td>53192.053509</td>\n",
       "    </tr>\n",
       "  </tbody>\n",
       "</table>\n",
       "</div>"
      ]
     },
     "execution_count": 179,
     "metadata": {},
     "output_type": "execute_result"
    }
   ],
   "execution_count": 179
  },
  {
   "metadata": {
    "ExecuteTime": {
     "end_time": "2025-07-27T16:15:39.789410Z",
     "start_time": "2025-07-27T16:15:39.787630Z"
    }
   },
   "cell_type": "code",
   "source": [
    "if 'df_source' not in vars():\n",
    "    df_source = df.copy()\n",
    "\n"
   ],
   "id": "192a9de17443e3c",
   "outputs": [],
   "execution_count": 180
  },
  {
   "metadata": {
    "ExecuteTime": {
     "end_time": "2025-07-27T16:15:39.859628Z",
     "start_time": "2025-07-27T16:15:39.850936Z"
    }
   },
   "cell_type": "code",
   "source": [
    "#\n",
    "# Suppresion des credit à 500\n",
    "#\n",
    "\n",
    "# df = df[df['montant_pret'] > 500]\n",
    "df.describe()"
   ],
   "id": "8e59a0247edd1e9b",
   "outputs": [
    {
     "data": {
      "text/plain": [
       "       revenu_estime_mois  historique_credits  score_credit  loyer_mensuel  \\\n",
       "count         4707.000000         4707.000000   4707.000000    4707.000000   \n",
       "mean          2502.972382            2.543446    570.654769     794.205957   \n",
       "std           1157.100931            1.691198    109.988345     183.799658   \n",
       "min            500.000000            0.000000    300.000000     265.203900   \n",
       "25%           1659.000000            1.000000    553.000000     684.719000   \n",
       "50%           2470.000000            3.000000    576.000000     793.052000   \n",
       "75%           3274.000000            4.000000    581.000000     904.830000   \n",
       "max           6826.000000            5.000000    848.000000    1307.961000   \n",
       "\n",
       "       montant_pret  \n",
       "count   4707.000000  \n",
       "mean    9177.451199  \n",
       "std    10765.963214  \n",
       "min      500.000000  \n",
       "25%      500.000000  \n",
       "50%     3727.548198  \n",
       "75%    16198.325704  \n",
       "max    53192.053509  "
      ],
      "text/html": [
       "<div>\n",
       "<style scoped>\n",
       "    .dataframe tbody tr th:only-of-type {\n",
       "        vertical-align: middle;\n",
       "    }\n",
       "\n",
       "    .dataframe tbody tr th {\n",
       "        vertical-align: top;\n",
       "    }\n",
       "\n",
       "    .dataframe thead th {\n",
       "        text-align: right;\n",
       "    }\n",
       "</style>\n",
       "<table border=\"1\" class=\"dataframe\">\n",
       "  <thead>\n",
       "    <tr style=\"text-align: right;\">\n",
       "      <th></th>\n",
       "      <th>revenu_estime_mois</th>\n",
       "      <th>historique_credits</th>\n",
       "      <th>score_credit</th>\n",
       "      <th>loyer_mensuel</th>\n",
       "      <th>montant_pret</th>\n",
       "    </tr>\n",
       "  </thead>\n",
       "  <tbody>\n",
       "    <tr>\n",
       "      <th>count</th>\n",
       "      <td>4707.000000</td>\n",
       "      <td>4707.000000</td>\n",
       "      <td>4707.000000</td>\n",
       "      <td>4707.000000</td>\n",
       "      <td>4707.000000</td>\n",
       "    </tr>\n",
       "    <tr>\n",
       "      <th>mean</th>\n",
       "      <td>2502.972382</td>\n",
       "      <td>2.543446</td>\n",
       "      <td>570.654769</td>\n",
       "      <td>794.205957</td>\n",
       "      <td>9177.451199</td>\n",
       "    </tr>\n",
       "    <tr>\n",
       "      <th>std</th>\n",
       "      <td>1157.100931</td>\n",
       "      <td>1.691198</td>\n",
       "      <td>109.988345</td>\n",
       "      <td>183.799658</td>\n",
       "      <td>10765.963214</td>\n",
       "    </tr>\n",
       "    <tr>\n",
       "      <th>min</th>\n",
       "      <td>500.000000</td>\n",
       "      <td>0.000000</td>\n",
       "      <td>300.000000</td>\n",
       "      <td>265.203900</td>\n",
       "      <td>500.000000</td>\n",
       "    </tr>\n",
       "    <tr>\n",
       "      <th>25%</th>\n",
       "      <td>1659.000000</td>\n",
       "      <td>1.000000</td>\n",
       "      <td>553.000000</td>\n",
       "      <td>684.719000</td>\n",
       "      <td>500.000000</td>\n",
       "    </tr>\n",
       "    <tr>\n",
       "      <th>50%</th>\n",
       "      <td>2470.000000</td>\n",
       "      <td>3.000000</td>\n",
       "      <td>576.000000</td>\n",
       "      <td>793.052000</td>\n",
       "      <td>3727.548198</td>\n",
       "    </tr>\n",
       "    <tr>\n",
       "      <th>75%</th>\n",
       "      <td>3274.000000</td>\n",
       "      <td>4.000000</td>\n",
       "      <td>581.000000</td>\n",
       "      <td>904.830000</td>\n",
       "      <td>16198.325704</td>\n",
       "    </tr>\n",
       "    <tr>\n",
       "      <th>max</th>\n",
       "      <td>6826.000000</td>\n",
       "      <td>5.000000</td>\n",
       "      <td>848.000000</td>\n",
       "      <td>1307.961000</td>\n",
       "      <td>53192.053509</td>\n",
       "    </tr>\n",
       "  </tbody>\n",
       "</table>\n",
       "</div>"
      ]
     },
     "execution_count": 181,
     "metadata": {},
     "output_type": "execute_result"
    }
   ],
   "execution_count": 181
  },
  {
   "metadata": {
    "ExecuteTime": {
     "end_time": "2025-07-27T16:15:39.944069Z",
     "start_time": "2025-07-27T16:15:39.942243Z"
    }
   },
   "cell_type": "code",
   "source": [
    "#\n",
    "# Preparation des features et de la target\n",
    "#\n",
    "X = df.drop('montant_pret', axis=1)\n",
    "y = df['montant_pret']\n"
   ],
   "id": "28ca384a19ffda9c",
   "outputs": [],
   "execution_count": 182
  },
  {
   "metadata": {
    "ExecuteTime": {
     "end_time": "2025-07-27T16:15:40.013466Z",
     "start_time": "2025-07-27T16:15:40.010060Z"
    }
   },
   "cell_type": "code",
   "source": [
    "#\n",
    "# Pré-traitement des données des features\n",
    "#\n",
    "\n",
    "features_numeriques = X.select_dtypes(include=np.number).columns.tolist()\n",
    "features_text = X.select_dtypes(include=['object', 'category']).columns.tolist()\n",
    "\n",
    "print(f\"\\nColonnes numériques détectées: {features_numeriques}\")\n",
    "print(f\"Colonnes textuelles détectées: {features_text}\\n\")\n"
   ],
   "id": "b75641048a4d490a",
   "outputs": [
    {
     "name": "stdout",
     "output_type": "stream",
     "text": [
      "\n",
      "Colonnes numériques détectées: ['revenu_estime_mois', 'historique_credits', 'score_credit', 'loyer_mensuel']\n",
      "Colonnes textuelles détectées: ['niveau_etude', 'region', 'smoker']\n",
      "\n"
     ]
    }
   ],
   "execution_count": 183
  },
  {
   "metadata": {
    "ExecuteTime": {
     "end_time": "2025-07-27T16:15:40.070793Z",
     "start_time": "2025-07-27T16:15:40.069144Z"
    }
   },
   "cell_type": "code",
   "source": [
    "#\n",
    "# Creation d'un pipeline sklearn pour gérer les valeurs numérique et textuelle\n",
    "#\n",
    "\n",
    "preprocessor = make_column_transformer(\n",
    "    (StandardScaler(), features_numeriques),\n",
    "    (OneHotEncoder(handle_unknown='ignore', sparse_output=False), features_text)\n",
    ")\n"
   ],
   "id": "ab6b610a492150bc",
   "outputs": [],
   "execution_count": 184
  },
  {
   "metadata": {
    "ExecuteTime": {
     "end_time": "2025-07-27T16:15:40.127867Z",
     "start_time": "2025-07-27T16:15:40.125161Z"
    }
   },
   "cell_type": "code",
   "source": [
    "#\n",
    "# Split 80% de data de training, 20% de data de test avec un random_state déterminé pour conserver les mêmes séquences.\n",
    "#\n",
    "\n",
    "X_train, X_test, y_train, y_test = train_test_split(X, y, test_size=0.2, random_state=42)\n"
   ],
   "id": "7c1ff78c33c20916",
   "outputs": [],
   "execution_count": 185
  },
  {
   "metadata": {
    "ExecuteTime": {
     "end_time": "2025-07-27T16:15:40.186938Z",
     "start_time": "2025-07-27T16:15:40.178294Z"
    }
   },
   "cell_type": "code",
   "source": [
    "#\n",
    "# Preparation des données\n",
    "#\n",
    "\n",
    "# 'fit_transform' sur les données d'entraînement pour apprendre les règles de transformation\n",
    "# le fonctionnement normal est :\n",
    "# - fit sur les données d'entrainements -> analyse les caractèristiques des données pour savoir les transformation et relation entre les données.\n",
    "# - transform -> applique les regle sur les données déterminé ci dessus sur les données d'entrainement.\n",
    "# fit_transform() applique les 2 opération dans une seule fonction\n",
    "X_train_processed = preprocessor.fit_transform(X_train)\n",
    "# 'transform' sur les données de test pour appliquer les régles fit qui ont été déterminée grace à fit_transform()\n",
    "# La on ne veux que faire la transformation avec les même règles que celles déterminée avec les règles d'entrainement.\n",
    "X_test_processed = preprocessor.transform(X_test)\n",
    "\n",
    "print(\"shape du dataset :\",X_train_processed.shape)\n",
    "\n",
    "# Affichage des données preprocessed pour voir à quoi ça ressemble.\n",
    "X_train_processed"
   ],
   "id": "b2f4467629623cb8",
   "outputs": [
    {
     "name": "stdout",
     "output_type": "stream",
     "text": [
      "shape du dataset : (3765, 19)\n"
     ]
    },
    {
     "data": {
      "text/plain": [
       "array([[ 1.44811466, -0.31829312,  0.1400017 , ...,  0.        ,\n",
       "         0.        ,  1.        ],\n",
       "       [ 0.91461309, -0.91037494, -0.16359922, ...,  0.        ,\n",
       "         1.        ,  0.        ],\n",
       "       [-0.859061  ,  0.86587051,  0.04800142, ...,  0.        ,\n",
       "         1.        ,  0.        ],\n",
       "       ...,\n",
       "       [-0.66140304, -0.91037494, -0.16359922, ...,  0.        ,\n",
       "         0.        ,  1.        ],\n",
       "       [-0.33430535, -0.31829312,  0.05720145, ...,  0.        ,\n",
       "         0.        ,  1.        ],\n",
       "       [ 0.56565058,  0.2737887 ,  0.09400156, ...,  0.        ,\n",
       "         1.        ,  0.        ]])"
      ]
     },
     "execution_count": 186,
     "metadata": {},
     "output_type": "execute_result"
    }
   ],
   "execution_count": 186
  },
  {
   "metadata": {
    "ExecuteTime": {
     "end_time": "2025-07-27T16:15:40.265177Z",
     "start_time": "2025-07-27T16:15:40.254447Z"
    }
   },
   "cell_type": "code",
   "source": [
    "#\n",
    "# Construction du model séquentiel (regression)\n",
    "#\n",
    "\n",
    "nb_features = X_train_processed.shape[1]\n",
    "print(\"nb_features du dataset :\", nb_features)\n",
    "\n",
    "model = tf.keras.Sequential([\n",
    "    # La couche d'entrée doit correspondre au nombre de features après prétraitement\n",
    "    # Ici 19 features\n",
    "    tf.keras.Input(shape=(nb_features,), name='input'),\n",
    "    tf.keras.layers.Dense(64, activation='relu', name='hidden1_64'),\n",
    "    tf.keras.layers.Dense(32, activation='relu', name='hidden2_32'),\n",
    "    # La couche de sortie a 1 neurone car on prédit une seule valeur (le montant)\n",
    "    tf.keras.layers.Dense(1, name='output_1')\n",
    "])\n"
   ],
   "id": "44559c4248cc5ddb",
   "outputs": [
    {
     "name": "stdout",
     "output_type": "stream",
     "text": [
      "nb_features du dataset : 19\n"
     ]
    }
   ],
   "execution_count": 187
  },
  {
   "metadata": {
    "ExecuteTime": {
     "end_time": "2025-07-27T16:15:40.337941Z",
     "start_time": "2025-07-27T16:15:40.328231Z"
    }
   },
   "cell_type": "code",
   "source": [
    "#\n",
    "# Compilation du model\n",
    "#\n",
    "\n",
    "model.compile(\n",
    "    optimizer='adam',\n",
    "    loss='mean_squared_error',  # Erreur quadratique moyenne\n",
    "    metrics=[\n",
    "        'mae',\n",
    "        tf.keras.metrics.R2Score(name='r2_score')\n",
    "    ]             # Erreur absolue moyenne (plus facile à interpréter)\n",
    ")\n"
   ],
   "id": "d8a3493e038fbe3",
   "outputs": [],
   "execution_count": 188
  },
  {
   "metadata": {
    "ExecuteTime": {
     "end_time": "2025-07-27T16:15:40.401364Z",
     "start_time": "2025-07-27T16:15:40.373404Z"
    }
   },
   "cell_type": "code",
   "source": [
    "#\n",
    "# setup mlflow\n",
    "# lancer mlflow dans une console via mlflow ui\n",
    "mlflow.autolog()\n",
    "mlflow.set_tracking_uri(os.getenv('MLFLOW_URI', 'http://localhost:5000'))\n"
   ],
   "id": "e5f3fc6073424cf7",
   "outputs": [
    {
     "name": "stderr",
     "output_type": "stream",
     "text": [
      "2025/07/27 20:15:40 INFO mlflow.tracking.fluent: Autologging successfully enabled for keras.\n",
      "2025/07/27 20:15:40 WARNING mlflow.utils.autologging_utils: MLflow sklearn autologging is known to be compatible with 1.3.0 <= scikit-learn <= 1.7.0, but the installed version is 1.7.1. If you encounter errors during autologging, try upgrading / downgrading scikit-learn to a compatible version, or try upgrading MLflow.\n",
      "2025/07/27 20:15:40 INFO mlflow.tracking.fluent: Autologging successfully enabled for sklearn.\n",
      "2025/07/27 20:15:40 WARNING mlflow.tracking.fluent: Exception raised while enabling autologging for tensorflow: No module named 'tensorflow.keras'\n"
     ]
    }
   ],
   "execution_count": 189
  },
  {
   "metadata": {
    "ExecuteTime": {
     "end_time": "2025-07-27T16:15:51.492279Z",
     "start_time": "2025-07-27T16:15:40.432228Z"
    }
   },
   "cell_type": "code",
   "source": [
    "#\n",
    "# Entrainement\n",
    "#\n",
    "epoch = 75\n",
    "batch_size = 30\n",
    "with mlflow.start_run(run_name=\"training_model_1\") as mlrun:\n",
    "#if True: # Vieux tric pou désactiver mlflow sans devoir desindanter\n",
    "    history = model.fit(\n",
    "        X_train_processed,\n",
    "        y_train,\n",
    "        epochs=epoch,  # Nombre de passages sur l'ensemble des données\n",
    "        validation_data=(X_test_processed, y_test),\n",
    "        verbose=1,   # Affiche une barre de progression\n",
    "        batch_size=batch_size\n",
    "    )\n",
    "    print(\"--- Performance du model ---\")\n",
    "    loss, mae, r2 = model.evaluate(X_test_processed, y_test, verbose=0)\n",
    "    print(f\"Perte (Loss/MSE) sur l'ensemble de test: {loss:.2f}\")\n",
    "    print(f\"Erreur Absolue Moyenne (MAE) sur l'ensemble de test: {mae:.2f} €\")\n",
    "    print(f\"(Cela signifie qu'en moyenne, les prédictions du modèle s'écartent de {mae:.2f} € de la valeur réelle)\")\n",
    "    print(f\"R2 = {r2:.2f}\")\n",
    "\n",
    "    mlflow.log_metric(\"loss\", loss)\n",
    "    mlflow.log_metric(\"mae\", mae)\n",
    "    mlflow.log_metric(\"r2\", r2)\n",
    "\n"
   ],
   "id": "4364be0163b7b653",
   "outputs": [
    {
     "name": "stderr",
     "output_type": "stream",
     "text": [
      "2025/07/27 20:15:40 WARNING mlflow.keras.autologging: Failed to log dataset information to MLflow. Reason: 'Series' object has no attribute 'flatten'\n"
     ]
    },
    {
     "data": {
      "text/plain": [],
      "text/html": [
       "<pre style=\"white-space:pre;overflow-x:auto;line-height:normal;font-family:Menlo,'DejaVu Sans Mono',consolas,'Courier New',monospace\"></pre>\n"
      ]
     },
     "metadata": {},
     "output_type": "display_data"
    },
    {
     "name": "stdout",
     "output_type": "stream",
     "text": [
      "Epoch 1/75\n",
      "\u001B[1m126/126\u001B[0m \u001B[32m━━━━━━━━━━━━━━━━━━━━\u001B[0m\u001B[37m\u001B[0m \u001B[1m0s\u001B[0m 1ms/step - loss: 208637936.0000 - mae: 9350.7129 - r2_score: -0.7227 - val_loss: 203693456.0000 - val_mae: 9211.2129 - val_r2_score: -0.7136\n",
      "Epoch 2/75\n",
      "\u001B[1m126/126\u001B[0m \u001B[32m━━━━━━━━━━━━━━━━━━━━\u001B[0m\u001B[37m\u001B[0m \u001B[1m0s\u001B[0m 632us/step - loss: 201684208.0000 - mae: 9304.6836 - r2_score: -0.7525 - val_loss: 197618656.0000 - val_mae: 8896.7520 - val_r2_score: -0.6625\n",
      "Epoch 3/75\n",
      "\u001B[1m126/126\u001B[0m \u001B[32m━━━━━━━━━━━━━━━━━━━━\u001B[0m\u001B[37m\u001B[0m \u001B[1m0s\u001B[0m 613us/step - loss: 188251296.0000 - mae: 8666.5889 - r2_score: -0.6374 - val_loss: 180124672.0000 - val_mae: 8598.0156 - val_r2_score: -0.5153\n",
      "Epoch 4/75\n",
      "\u001B[1m126/126\u001B[0m \u001B[32m━━━━━━━━━━━━━━━━━━━━\u001B[0m\u001B[37m\u001B[0m \u001B[1m0s\u001B[0m 632us/step - loss: 178729184.0000 - mae: 8732.2188 - r2_score: -0.4772 - val_loss: 153594656.0000 - val_mae: 8394.9951 - val_r2_score: -0.2921\n",
      "Epoch 5/75\n",
      "\u001B[1m126/126\u001B[0m \u001B[32m━━━━━━━━━━━━━━━━━━━━\u001B[0m\u001B[37m\u001B[0m \u001B[1m0s\u001B[0m 662us/step - loss: 139854448.0000 - mae: 8245.0322 - r2_score: -0.2356 - val_loss: 128296992.0000 - val_mae: 8276.3760 - val_r2_score: -0.0793\n",
      "Epoch 6/75\n",
      "\u001B[1m126/126\u001B[0m \u001B[32m━━━━━━━━━━━━━━━━━━━━\u001B[0m\u001B[37m\u001B[0m \u001B[1m0s\u001B[0m 657us/step - loss: 118010776.0000 - mae: 8122.2793 - r2_score: -0.0236 - val_loss: 112419744.0000 - val_mae: 8294.2676 - val_r2_score: 0.0543\n",
      "Epoch 7/75\n",
      "\u001B[1m126/126\u001B[0m \u001B[32m━━━━━━━━━━━━━━━━━━━━\u001B[0m\u001B[37m\u001B[0m \u001B[1m0s\u001B[0m 663us/step - loss: 109876296.0000 - mae: 8283.7305 - r2_score: 0.0817 - val_loss: 104218216.0000 - val_mae: 8302.5947 - val_r2_score: 0.1233\n",
      "Epoch 8/75\n",
      "\u001B[1m126/126\u001B[0m \u001B[32m━━━━━━━━━━━━━━━━━━━━\u001B[0m\u001B[37m\u001B[0m \u001B[1m0s\u001B[0m 643us/step - loss: 97222424.0000 - mae: 8089.8052 - r2_score: 0.1557 - val_loss: 99488136.0000 - val_mae: 8228.2734 - val_r2_score: 0.1631\n",
      "Epoch 9/75\n",
      "\u001B[1m126/126\u001B[0m \u001B[32m━━━━━━━━━━━━━━━━━━━━\u001B[0m\u001B[37m\u001B[0m \u001B[1m0s\u001B[0m 627us/step - loss: 92740864.0000 - mae: 8034.9517 - r2_score: 0.1982 - val_loss: 95897560.0000 - val_mae: 8124.7393 - val_r2_score: 0.1933\n",
      "Epoch 10/75\n",
      "\u001B[1m126/126\u001B[0m \u001B[32m━━━━━━━━━━━━━━━━━━━━\u001B[0m\u001B[37m\u001B[0m \u001B[1m0s\u001B[0m 741us/step - loss: 88751088.0000 - mae: 7869.4009 - r2_score: 0.2146 - val_loss: 92973272.0000 - val_mae: 7994.8711 - val_r2_score: 0.2179\n",
      "Epoch 11/75\n",
      "\u001B[1m126/126\u001B[0m \u001B[32m━━━━━━━━━━━━━━━━━━━━\u001B[0m\u001B[37m\u001B[0m \u001B[1m0s\u001B[0m 666us/step - loss: 87187088.0000 - mae: 7719.7134 - r2_score: 0.2409 - val_loss: 90557624.0000 - val_mae: 7861.2461 - val_r2_score: 0.2382\n",
      "Epoch 12/75\n",
      "\u001B[1m126/126\u001B[0m \u001B[32m━━━━━━━━━━━━━━━━━━━━\u001B[0m\u001B[37m\u001B[0m \u001B[1m0s\u001B[0m 661us/step - loss: 84442256.0000 - mae: 7628.4497 - r2_score: 0.2515 - val_loss: 88420880.0000 - val_mae: 7740.5205 - val_r2_score: 0.2562\n",
      "Epoch 13/75\n",
      "\u001B[1m126/126\u001B[0m \u001B[32m━━━━━━━━━━━━━━━━━━━━\u001B[0m\u001B[37m\u001B[0m \u001B[1m0s\u001B[0m 678us/step - loss: 80345888.0000 - mae: 7338.1128 - r2_score: 0.2677 - val_loss: 86607896.0000 - val_mae: 7625.8643 - val_r2_score: 0.2714\n",
      "Epoch 14/75\n",
      "\u001B[1m126/126\u001B[0m \u001B[32m━━━━━━━━━━━━━━━━━━━━\u001B[0m\u001B[37m\u001B[0m \u001B[1m0s\u001B[0m 638us/step - loss: 83158072.0000 - mae: 7447.7090 - r2_score: 0.2934 - val_loss: 85033784.0000 - val_mae: 7516.8608 - val_r2_score: 0.2847\n",
      "Epoch 15/75\n",
      "\u001B[1m126/126\u001B[0m \u001B[32m━━━━━━━━━━━━━━━━━━━━\u001B[0m\u001B[37m\u001B[0m \u001B[1m0s\u001B[0m 654us/step - loss: 83283952.0000 - mae: 7457.7993 - r2_score: 0.2992 - val_loss: 83706384.0000 - val_mae: 7427.5508 - val_r2_score: 0.2958\n",
      "Epoch 16/75\n",
      "\u001B[1m126/126\u001B[0m \u001B[32m━━━━━━━━━━━━━━━━━━━━\u001B[0m\u001B[37m\u001B[0m \u001B[1m0s\u001B[0m 635us/step - loss: 78367008.0000 - mae: 7147.3735 - r2_score: 0.3363 - val_loss: 82584968.0000 - val_mae: 7335.0312 - val_r2_score: 0.3053\n",
      "Epoch 17/75\n",
      "\u001B[1m126/126\u001B[0m \u001B[32m━━━━━━━━━━━━━━━━━━━━\u001B[0m\u001B[37m\u001B[0m \u001B[1m0s\u001B[0m 686us/step - loss: 77082208.0000 - mae: 7090.5405 - r2_score: 0.3209 - val_loss: 81659712.0000 - val_mae: 7266.9067 - val_r2_score: 0.3130\n",
      "Epoch 18/75\n",
      "\u001B[1m126/126\u001B[0m \u001B[32m━━━━━━━━━━━━━━━━━━━━\u001B[0m\u001B[37m\u001B[0m \u001B[1m0s\u001B[0m 644us/step - loss: 75209856.0000 - mae: 6934.7520 - r2_score: 0.3251 - val_loss: 80918944.0000 - val_mae: 7200.9385 - val_r2_score: 0.3193\n",
      "Epoch 19/75\n",
      "\u001B[1m126/126\u001B[0m \u001B[32m━━━━━━━━━━━━━━━━━━━━\u001B[0m\u001B[37m\u001B[0m \u001B[1m0s\u001B[0m 599us/step - loss: 75038808.0000 - mae: 6929.0249 - r2_score: 0.3401 - val_loss: 80294392.0000 - val_mae: 7153.4966 - val_r2_score: 0.3245\n",
      "Epoch 20/75\n",
      "\u001B[1m126/126\u001B[0m \u001B[32m━━━━━━━━━━━━━━━━━━━━\u001B[0m\u001B[37m\u001B[0m \u001B[1m0s\u001B[0m 625us/step - loss: 74431960.0000 - mae: 6867.5435 - r2_score: 0.3690 - val_loss: 79794032.0000 - val_mae: 7101.6821 - val_r2_score: 0.3287\n",
      "Epoch 21/75\n",
      "\u001B[1m126/126\u001B[0m \u001B[32m━━━━━━━━━━━━━━━━━━━━\u001B[0m\u001B[37m\u001B[0m \u001B[1m0s\u001B[0m 753us/step - loss: 74695480.0000 - mae: 6853.8525 - r2_score: 0.3553 - val_loss: 79327800.0000 - val_mae: 7061.8394 - val_r2_score: 0.3327\n",
      "Epoch 22/75\n",
      "\u001B[1m126/126\u001B[0m \u001B[32m━━━━━━━━━━━━━━━━━━━━\u001B[0m\u001B[37m\u001B[0m \u001B[1m0s\u001B[0m 680us/step - loss: 77865384.0000 - mae: 6992.5020 - r2_score: 0.3373 - val_loss: 78973432.0000 - val_mae: 7026.8252 - val_r2_score: 0.3356\n",
      "Epoch 23/75\n",
      "\u001B[1m126/126\u001B[0m \u001B[32m━━━━━━━━━━━━━━━━━━━━\u001B[0m\u001B[37m\u001B[0m \u001B[1m0s\u001B[0m 728us/step - loss: 76059712.0000 - mae: 6840.5068 - r2_score: 0.3525 - val_loss: 78662600.0000 - val_mae: 6994.3125 - val_r2_score: 0.3382\n",
      "Epoch 24/75\n",
      "\u001B[1m126/126\u001B[0m \u001B[32m━━━━━━━━━━━━━━━━━━━━\u001B[0m\u001B[37m\u001B[0m \u001B[1m0s\u001B[0m 783us/step - loss: 72872160.0000 - mae: 6752.1025 - r2_score: 0.3529 - val_loss: 78486136.0000 - val_mae: 6975.4688 - val_r2_score: 0.3397\n",
      "Epoch 25/75\n",
      "\u001B[1m126/126\u001B[0m \u001B[32m━━━━━━━━━━━━━━━━━━━━\u001B[0m\u001B[37m\u001B[0m \u001B[1m0s\u001B[0m 726us/step - loss: 72162224.0000 - mae: 6694.8462 - r2_score: 0.3461 - val_loss: 78328288.0000 - val_mae: 6958.4648 - val_r2_score: 0.3411\n",
      "Epoch 26/75\n",
      "\u001B[1m126/126\u001B[0m \u001B[32m━━━━━━━━━━━━━━━━━━━━\u001B[0m\u001B[37m\u001B[0m \u001B[1m0s\u001B[0m 705us/step - loss: 71222256.0000 - mae: 6652.5596 - r2_score: 0.3338 - val_loss: 78134664.0000 - val_mae: 6941.5327 - val_r2_score: 0.3427\n",
      "Epoch 27/75\n",
      "\u001B[1m126/126\u001B[0m \u001B[32m━━━━━━━━━━━━━━━━━━━━\u001B[0m\u001B[37m\u001B[0m \u001B[1m0s\u001B[0m 669us/step - loss: 74074488.0000 - mae: 6771.1807 - r2_score: 0.3615 - val_loss: 78003584.0000 - val_mae: 6923.5576 - val_r2_score: 0.3438\n",
      "Epoch 28/75\n",
      "\u001B[1m126/126\u001B[0m \u001B[32m━━━━━━━━━━━━━━━━━━━━\u001B[0m\u001B[37m\u001B[0m \u001B[1m0s\u001B[0m 641us/step - loss: 74741824.0000 - mae: 6804.5649 - r2_score: 0.3511 - val_loss: 77886336.0000 - val_mae: 6909.6333 - val_r2_score: 0.3448\n",
      "Epoch 29/75\n",
      "\u001B[1m126/126\u001B[0m \u001B[32m━━━━━━━━━━━━━━━━━━━━\u001B[0m\u001B[37m\u001B[0m \u001B[1m0s\u001B[0m 650us/step - loss: 75878280.0000 - mae: 6798.3701 - r2_score: 0.3500 - val_loss: 77821376.0000 - val_mae: 6900.4321 - val_r2_score: 0.3453\n",
      "Epoch 30/75\n",
      "\u001B[1m126/126\u001B[0m \u001B[32m━━━━━━━━━━━━━━━━━━━━\u001B[0m\u001B[37m\u001B[0m \u001B[1m0s\u001B[0m 631us/step - loss: 72561616.0000 - mae: 6666.1094 - r2_score: 0.3685 - val_loss: 77780552.0000 - val_mae: 6893.7197 - val_r2_score: 0.3457\n",
      "Epoch 31/75\n",
      "\u001B[1m126/126\u001B[0m \u001B[32m━━━━━━━━━━━━━━━━━━━━\u001B[0m\u001B[37m\u001B[0m \u001B[1m0s\u001B[0m 679us/step - loss: 72093128.0000 - mae: 6682.1870 - r2_score: 0.3418 - val_loss: 77669576.0000 - val_mae: 6881.7632 - val_r2_score: 0.3466\n",
      "Epoch 32/75\n",
      "\u001B[1m126/126\u001B[0m \u001B[32m━━━━━━━━━━━━━━━━━━━━\u001B[0m\u001B[37m\u001B[0m \u001B[1m0s\u001B[0m 638us/step - loss: 72232088.0000 - mae: 6655.4019 - r2_score: 0.3513 - val_loss: 77654368.0000 - val_mae: 6877.1104 - val_r2_score: 0.3467\n",
      "Epoch 33/75\n",
      "\u001B[1m126/126\u001B[0m \u001B[32m━━━━━━━━━━━━━━━━━━━━\u001B[0m\u001B[37m\u001B[0m \u001B[1m0s\u001B[0m 627us/step - loss: 72634176.0000 - mae: 6607.0991 - r2_score: 0.3843 - val_loss: 77608144.0000 - val_mae: 6868.3647 - val_r2_score: 0.3471\n",
      "Epoch 34/75\n",
      "\u001B[1m126/126\u001B[0m \u001B[32m━━━━━━━━━━━━━━━━━━━━\u001B[0m\u001B[37m\u001B[0m \u001B[1m0s\u001B[0m 638us/step - loss: 72350864.0000 - mae: 6608.0815 - r2_score: 0.3698 - val_loss: 77565088.0000 - val_mae: 6863.2603 - val_r2_score: 0.3475\n",
      "Epoch 35/75\n",
      "\u001B[1m126/126\u001B[0m \u001B[32m━━━━━━━━━━━━━━━━━━━━\u001B[0m\u001B[37m\u001B[0m \u001B[1m0s\u001B[0m 621us/step - loss: 73739032.0000 - mae: 6685.7915 - r2_score: 0.3558 - val_loss: 77535000.0000 - val_mae: 6858.5469 - val_r2_score: 0.3477\n",
      "Epoch 36/75\n",
      "\u001B[1m126/126\u001B[0m \u001B[32m━━━━━━━━━━━━━━━━━━━━\u001B[0m\u001B[37m\u001B[0m \u001B[1m0s\u001B[0m 648us/step - loss: 72535504.0000 - mae: 6587.9932 - r2_score: 0.3781 - val_loss: 77540800.0000 - val_mae: 6855.3105 - val_r2_score: 0.3477\n",
      "Epoch 37/75\n",
      "\u001B[1m126/126\u001B[0m \u001B[32m━━━━━━━━━━━━━━━━━━━━\u001B[0m\u001B[37m\u001B[0m \u001B[1m0s\u001B[0m 631us/step - loss: 73321096.0000 - mae: 6676.4858 - r2_score: 0.3227 - val_loss: 77530072.0000 - val_mae: 6852.4272 - val_r2_score: 0.3478\n",
      "Epoch 38/75\n",
      "\u001B[1m126/126\u001B[0m \u001B[32m━━━━━━━━━━━━━━━━━━━━\u001B[0m\u001B[37m\u001B[0m \u001B[1m0s\u001B[0m 612us/step - loss: 74610040.0000 - mae: 6676.7939 - r2_score: 0.3701 - val_loss: 77504392.0000 - val_mae: 6849.0479 - val_r2_score: 0.3480\n",
      "Epoch 39/75\n",
      "\u001B[1m126/126\u001B[0m \u001B[32m━━━━━━━━━━━━━━━━━━━━\u001B[0m\u001B[37m\u001B[0m \u001B[1m0s\u001B[0m 686us/step - loss: 70915984.0000 - mae: 6530.3433 - r2_score: 0.3725 - val_loss: 77451232.0000 - val_mae: 6844.9756 - val_r2_score: 0.3484\n",
      "Epoch 40/75\n",
      "\u001B[1m126/126\u001B[0m \u001B[32m━━━━━━━━━━━━━━━━━━━━\u001B[0m\u001B[37m\u001B[0m \u001B[1m0s\u001B[0m 741us/step - loss: 72148952.0000 - mae: 6616.3623 - r2_score: 0.3731 - val_loss: 77447400.0000 - val_mae: 6841.7305 - val_r2_score: 0.3485\n",
      "Epoch 41/75\n",
      "\u001B[1m126/126\u001B[0m \u001B[32m━━━━━━━━━━━━━━━━━━━━\u001B[0m\u001B[37m\u001B[0m \u001B[1m0s\u001B[0m 656us/step - loss: 71798016.0000 - mae: 6605.7119 - r2_score: 0.3711 - val_loss: 77458344.0000 - val_mae: 6841.7700 - val_r2_score: 0.3484\n",
      "Epoch 42/75\n",
      "\u001B[1m126/126\u001B[0m \u001B[32m━━━━━━━━━━━━━━━━━━━━\u001B[0m\u001B[37m\u001B[0m \u001B[1m0s\u001B[0m 735us/step - loss: 73089128.0000 - mae: 6685.5059 - r2_score: 0.3723 - val_loss: 77428056.0000 - val_mae: 6838.0791 - val_r2_score: 0.3486\n",
      "Epoch 43/75\n",
      "\u001B[1m126/126\u001B[0m \u001B[32m━━━━━━━━━━━━━━━━━━━━\u001B[0m\u001B[37m\u001B[0m \u001B[1m0s\u001B[0m 622us/step - loss: 73186376.0000 - mae: 6703.3438 - r2_score: 0.3537 - val_loss: 77416688.0000 - val_mae: 6837.6704 - val_r2_score: 0.3487\n",
      "Epoch 44/75\n",
      "\u001B[1m126/126\u001B[0m \u001B[32m━━━━━━━━━━━━━━━━━━━━\u001B[0m\u001B[37m\u001B[0m \u001B[1m0s\u001B[0m 713us/step - loss: 73199104.0000 - mae: 6627.0176 - r2_score: 0.3653 - val_loss: 77417080.0000 - val_mae: 6835.7241 - val_r2_score: 0.3487\n",
      "Epoch 45/75\n",
      "\u001B[1m126/126\u001B[0m \u001B[32m━━━━━━━━━━━━━━━━━━━━\u001B[0m\u001B[37m\u001B[0m \u001B[1m0s\u001B[0m 740us/step - loss: 74166928.0000 - mae: 6666.8262 - r2_score: 0.3595 - val_loss: 77408072.0000 - val_mae: 6834.1851 - val_r2_score: 0.3488\n",
      "Epoch 46/75\n",
      "\u001B[1m126/126\u001B[0m \u001B[32m━━━━━━━━━━━━━━━━━━━━\u001B[0m\u001B[37m\u001B[0m \u001B[1m0s\u001B[0m 658us/step - loss: 76083520.0000 - mae: 6785.5098 - r2_score: 0.3539 - val_loss: 77421360.0000 - val_mae: 6832.4941 - val_r2_score: 0.3487\n",
      "Epoch 47/75\n",
      "\u001B[1m126/126\u001B[0m \u001B[32m━━━━━━━━━━━━━━━━━━━━\u001B[0m\u001B[37m\u001B[0m \u001B[1m0s\u001B[0m 633us/step - loss: 71353096.0000 - mae: 6514.3149 - r2_score: 0.3595 - val_loss: 77410320.0000 - val_mae: 6831.9829 - val_r2_score: 0.3488\n",
      "Epoch 48/75\n",
      "\u001B[1m126/126\u001B[0m \u001B[32m━━━━━━━━━━━━━━━━━━━━\u001B[0m\u001B[37m\u001B[0m \u001B[1m0s\u001B[0m 625us/step - loss: 70706968.0000 - mae: 6527.0005 - r2_score: 0.3539 - val_loss: 77441408.0000 - val_mae: 6832.1489 - val_r2_score: 0.3485\n",
      "Epoch 49/75\n",
      "\u001B[1m126/126\u001B[0m \u001B[32m━━━━━━━━━━━━━━━━━━━━\u001B[0m\u001B[37m\u001B[0m \u001B[1m0s\u001B[0m 676us/step - loss: 73550352.0000 - mae: 6633.7207 - r2_score: 0.3573 - val_loss: 77434096.0000 - val_mae: 6831.6904 - val_r2_score: 0.3486\n",
      "Epoch 50/75\n",
      "\u001B[1m126/126\u001B[0m \u001B[32m━━━━━━━━━━━━━━━━━━━━\u001B[0m\u001B[37m\u001B[0m \u001B[1m0s\u001B[0m 637us/step - loss: 71474776.0000 - mae: 6600.5728 - r2_score: 0.3618 - val_loss: 77392752.0000 - val_mae: 6830.2817 - val_r2_score: 0.3489\n",
      "Epoch 51/75\n",
      "\u001B[1m126/126\u001B[0m \u001B[32m━━━━━━━━━━━━━━━━━━━━\u001B[0m\u001B[37m\u001B[0m \u001B[1m0s\u001B[0m 619us/step - loss: 72852144.0000 - mae: 6685.9766 - r2_score: 0.3691 - val_loss: 77388224.0000 - val_mae: 6828.3765 - val_r2_score: 0.3490\n",
      "Epoch 52/75\n",
      "\u001B[1m126/126\u001B[0m \u001B[32m━━━━━━━━━━━━━━━━━━━━\u001B[0m\u001B[37m\u001B[0m \u001B[1m0s\u001B[0m 607us/step - loss: 75476808.0000 - mae: 6767.0581 - r2_score: 0.3566 - val_loss: 77420984.0000 - val_mae: 6829.1602 - val_r2_score: 0.3487\n",
      "Epoch 53/75\n",
      "\u001B[1m126/126\u001B[0m \u001B[32m━━━━━━━━━━━━━━━━━━━━\u001B[0m\u001B[37m\u001B[0m \u001B[1m0s\u001B[0m 632us/step - loss: 74771440.0000 - mae: 6778.8979 - r2_score: 0.3619 - val_loss: 77360088.0000 - val_mae: 6825.9219 - val_r2_score: 0.3492\n",
      "Epoch 54/75\n",
      "\u001B[1m126/126\u001B[0m \u001B[32m━━━━━━━━━━━━━━━━━━━━\u001B[0m\u001B[37m\u001B[0m \u001B[1m0s\u001B[0m 638us/step - loss: 75426888.0000 - mae: 6769.9902 - r2_score: 0.3531 - val_loss: 77312664.0000 - val_mae: 6825.2280 - val_r2_score: 0.3496\n",
      "Epoch 55/75\n",
      "\u001B[1m126/126\u001B[0m \u001B[32m━━━━━━━━━━━━━━━━━━━━\u001B[0m\u001B[37m\u001B[0m \u001B[1m0s\u001B[0m 611us/step - loss: 72720776.0000 - mae: 6610.3433 - r2_score: 0.3629 - val_loss: 77401216.0000 - val_mae: 6827.2148 - val_r2_score: 0.3489\n",
      "Epoch 56/75\n",
      "\u001B[1m126/126\u001B[0m \u001B[32m━━━━━━━━━━━━━━━━━━━━\u001B[0m\u001B[37m\u001B[0m \u001B[1m0s\u001B[0m 642us/step - loss: 73804176.0000 - mae: 6662.2339 - r2_score: 0.3483 - val_loss: 77383248.0000 - val_mae: 6827.4790 - val_r2_score: 0.3490\n",
      "Epoch 57/75\n",
      "\u001B[1m126/126\u001B[0m \u001B[32m━━━━━━━━━━━━━━━━━━━━\u001B[0m\u001B[37m\u001B[0m \u001B[1m0s\u001B[0m 696us/step - loss: 73657512.0000 - mae: 6657.3667 - r2_score: 0.3532 - val_loss: 77410272.0000 - val_mae: 6827.5322 - val_r2_score: 0.3488\n",
      "Epoch 58/75\n",
      "\u001B[1m126/126\u001B[0m \u001B[32m━━━━━━━━━━━━━━━━━━━━\u001B[0m\u001B[37m\u001B[0m \u001B[1m0s\u001B[0m 682us/step - loss: 74543248.0000 - mae: 6737.1841 - r2_score: 0.3559 - val_loss: 77379648.0000 - val_mae: 6826.2236 - val_r2_score: 0.3490\n",
      "Epoch 59/75\n",
      "\u001B[1m126/126\u001B[0m \u001B[32m━━━━━━━━━━━━━━━━━━━━\u001B[0m\u001B[37m\u001B[0m \u001B[1m0s\u001B[0m 683us/step - loss: 74350056.0000 - mae: 6772.0913 - r2_score: 0.3564 - val_loss: 77325248.0000 - val_mae: 6824.2559 - val_r2_score: 0.3495\n",
      "Epoch 60/75\n",
      "\u001B[1m126/126\u001B[0m \u001B[32m━━━━━━━━━━━━━━━━━━━━\u001B[0m\u001B[37m\u001B[0m \u001B[1m0s\u001B[0m 656us/step - loss: 73073128.0000 - mae: 6641.9526 - r2_score: 0.3853 - val_loss: 77319232.0000 - val_mae: 6823.3315 - val_r2_score: 0.3496\n",
      "Epoch 61/75\n",
      "\u001B[1m126/126\u001B[0m \u001B[32m━━━━━━━━━━━━━━━━━━━━\u001B[0m\u001B[37m\u001B[0m \u001B[1m0s\u001B[0m 645us/step - loss: 73064392.0000 - mae: 6653.2363 - r2_score: 0.3580 - val_loss: 77356664.0000 - val_mae: 6824.0405 - val_r2_score: 0.3492\n",
      "Epoch 62/75\n",
      "\u001B[1m126/126\u001B[0m \u001B[32m━━━━━━━━━━━━━━━━━━━━\u001B[0m\u001B[37m\u001B[0m \u001B[1m0s\u001B[0m 715us/step - loss: 74846224.0000 - mae: 6709.5601 - r2_score: 0.3539 - val_loss: 77354992.0000 - val_mae: 6825.1421 - val_r2_score: 0.3493\n",
      "Epoch 63/75\n",
      "\u001B[1m126/126\u001B[0m \u001B[32m━━━━━━━━━━━━━━━━━━━━\u001B[0m\u001B[37m\u001B[0m \u001B[1m0s\u001B[0m 761us/step - loss: 74004528.0000 - mae: 6697.6768 - r2_score: 0.3422 - val_loss: 77386872.0000 - val_mae: 6826.2373 - val_r2_score: 0.3490\n",
      "Epoch 64/75\n",
      "\u001B[1m126/126\u001B[0m \u001B[32m━━━━━━━━━━━━━━━━━━━━\u001B[0m\u001B[37m\u001B[0m \u001B[1m0s\u001B[0m 757us/step - loss: 75928552.0000 - mae: 6830.0220 - r2_score: 0.3630 - val_loss: 77329968.0000 - val_mae: 6823.4390 - val_r2_score: 0.3495\n",
      "Epoch 65/75\n",
      "\u001B[1m126/126\u001B[0m \u001B[32m━━━━━━━━━━━━━━━━━━━━\u001B[0m\u001B[37m\u001B[0m \u001B[1m0s\u001B[0m 674us/step - loss: 74397592.0000 - mae: 6665.7124 - r2_score: 0.3615 - val_loss: 77299992.0000 - val_mae: 6822.9829 - val_r2_score: 0.3497\n",
      "Epoch 66/75\n",
      "\u001B[1m126/126\u001B[0m \u001B[32m━━━━━━━━━━━━━━━━━━━━\u001B[0m\u001B[37m\u001B[0m \u001B[1m0s\u001B[0m 653us/step - loss: 73435848.0000 - mae: 6656.0161 - r2_score: 0.3538 - val_loss: 77274376.0000 - val_mae: 6820.9980 - val_r2_score: 0.3499\n",
      "Epoch 67/75\n",
      "\u001B[1m126/126\u001B[0m \u001B[32m━━━━━━━━━━━━━━━━━━━━\u001B[0m\u001B[37m\u001B[0m \u001B[1m0s\u001B[0m 633us/step - loss: 74227232.0000 - mae: 6657.1108 - r2_score: 0.3640 - val_loss: 77340648.0000 - val_mae: 6823.9292 - val_r2_score: 0.3494\n",
      "Epoch 68/75\n",
      "\u001B[1m126/126\u001B[0m \u001B[32m━━━━━━━━━━━━━━━━━━━━\u001B[0m\u001B[37m\u001B[0m \u001B[1m0s\u001B[0m 614us/step - loss: 73711672.0000 - mae: 6715.4888 - r2_score: 0.3336 - val_loss: 77316072.0000 - val_mae: 6823.9761 - val_r2_score: 0.3496\n",
      "Epoch 69/75\n",
      "\u001B[1m126/126\u001B[0m \u001B[32m━━━━━━━━━━━━━━━━━━━━\u001B[0m\u001B[37m\u001B[0m \u001B[1m0s\u001B[0m 650us/step - loss: 71071280.0000 - mae: 6543.7490 - r2_score: 0.3764 - val_loss: 77298352.0000 - val_mae: 6823.1382 - val_r2_score: 0.3497\n",
      "Epoch 70/75\n",
      "\u001B[1m126/126\u001B[0m \u001B[32m━━━━━━━━━━━━━━━━━━━━\u001B[0m\u001B[37m\u001B[0m \u001B[1m0s\u001B[0m 634us/step - loss: 75537344.0000 - mae: 6774.3311 - r2_score: 0.3593 - val_loss: 77307720.0000 - val_mae: 6823.6167 - val_r2_score: 0.3496\n",
      "Epoch 71/75\n",
      "\u001B[1m126/126\u001B[0m \u001B[32m━━━━━━━━━━━━━━━━━━━━\u001B[0m\u001B[37m\u001B[0m \u001B[1m0s\u001B[0m 633us/step - loss: 76106688.0000 - mae: 6865.3101 - r2_score: 0.3505 - val_loss: 77274024.0000 - val_mae: 6822.3716 - val_r2_score: 0.3499\n",
      "Epoch 72/75\n",
      "\u001B[1m126/126\u001B[0m \u001B[32m━━━━━━━━━━━━━━━━━━━━\u001B[0m\u001B[37m\u001B[0m \u001B[1m0s\u001B[0m 681us/step - loss: 73791568.0000 - mae: 6625.3838 - r2_score: 0.3516 - val_loss: 77334888.0000 - val_mae: 6824.4082 - val_r2_score: 0.3494\n",
      "Epoch 73/75\n",
      "\u001B[1m126/126\u001B[0m \u001B[32m━━━━━━━━━━━━━━━━━━━━\u001B[0m\u001B[37m\u001B[0m \u001B[1m0s\u001B[0m 627us/step - loss: 73266360.0000 - mae: 6616.3755 - r2_score: 0.3622 - val_loss: 77340696.0000 - val_mae: 6825.1689 - val_r2_score: 0.3494\n",
      "Epoch 74/75\n",
      "\u001B[1m126/126\u001B[0m \u001B[32m━━━━━━━━━━━━━━━━━━━━\u001B[0m\u001B[37m\u001B[0m \u001B[1m0s\u001B[0m 615us/step - loss: 72165664.0000 - mae: 6570.8311 - r2_score: 0.3539 - val_loss: 77296776.0000 - val_mae: 6823.4106 - val_r2_score: 0.3497\n",
      "Epoch 75/75\n",
      "\u001B[1m126/126\u001B[0m \u001B[32m━━━━━━━━━━━━━━━━━━━━\u001B[0m\u001B[37m\u001B[0m \u001B[1m0s\u001B[0m 667us/step - loss: 72123584.0000 - mae: 6597.7373 - r2_score: 0.3492 - val_loss: 77304072.0000 - val_mae: 6825.4004 - val_r2_score: 0.3497\n"
     ]
    },
    {
     "name": "stderr",
     "output_type": "stream",
     "text": [
      "2025/07/27 20:15:48 WARNING mlflow.models.model: `artifact_path` is deprecated. Please use `name` instead.\n"
     ]
    },
    {
     "name": "stdout",
     "output_type": "stream",
     "text": [
      "--- Performance du model ---\n",
      "Perte (Loss/MSE) sur l'ensemble de test: 77304064.00\n",
      "Erreur Absolue Moyenne (MAE) sur l'ensemble de test: 6825.40 €\n",
      "(Cela signifie qu'en moyenne, les prédictions du modèle s'écartent de 6825.40 € de la valeur réelle)\n",
      "R2 = 0.35\n",
      "🏃 View run training_model_1 at: http://localhost:5000/#/experiments/0/runs/91438109032e4f69af2a8a3d73daef94\n",
      "🧪 View experiment at: http://localhost:5000/#/experiments/0\n"
     ]
    }
   ],
   "execution_count": 190
  },
  {
   "metadata": {},
   "cell_type": "markdown",
   "source": "Sauvegarder",
   "id": "72d911e02170b31"
  },
  {
   "metadata": {
    "ExecuteTime": {
     "end_time": "2025-07-27T16:15:51.513764Z",
     "start_time": "2025-07-27T16:15:51.504102Z"
    }
   },
   "cell_type": "code",
   "source": [
    "import joblib\n",
    "joblib.dump(model, os.path.join('ai_models',f'model_epoch-{epoch}_batch-{batch_size}_r2-{r2}.pkl'))"
   ],
   "id": "7aa02ec799e4e575",
   "outputs": [
    {
     "data": {
      "text/plain": [
       "['ai_models/model_epoch-75_batch-30_r2-0.34967857599258423.pkl']"
      ]
     },
     "execution_count": 191,
     "metadata": {},
     "output_type": "execute_result"
    }
   ],
   "execution_count": 191
  },
  {
   "metadata": {},
   "cell_type": "markdown",
   "source": "# Completage nouveau model avec des données du modele précédant",
   "id": "f3154c6f654a655f"
  },
  {
   "metadata": {
    "ExecuteTime": {
     "end_time": "2025-07-27T16:15:51.568208Z",
     "start_time": "2025-07-27T16:15:51.557439Z"
    }
   },
   "cell_type": "code",
   "source": [
    "#\n",
    "# Chargement du nouveau dataset\n",
    "#\n",
    "\n",
    "try:\n",
    "    df = pd.read_csv(os.path.join(DATADIR, 'training_dataset-new.csv'))\n",
    "    print(\"Fichier 'dataset.csv' chargé avec succès.\")\n",
    "except FileNotFoundError:\n",
    "    print(\"ERREUR: Le fichier 'training_dataset-new.csv' est introuvable. Veuillez vérifier son emplacement.\")\n",
    "    exit()\n",
    "\n",
    "df.describe()\n"
   ],
   "id": "f0c4a51f8b1f963d",
   "outputs": [
    {
     "name": "stdout",
     "output_type": "stream",
     "text": [
      "Fichier 'dataset.csv' chargé avec succès.\n"
     ]
    },
    {
     "data": {
      "text/plain": [
       "        nb_enfants  revenu_estime_mois  historique_credits  score_credit  \\\n",
       "count  4692.000000         4692.000000         4692.000000   4692.000000   \n",
       "mean      1.598892         2508.968670            2.506820    573.216113   \n",
       "std       1.397924         1146.548408            1.688411    107.050928   \n",
       "min      -4.000000          500.000000            0.000000    300.000000   \n",
       "25%       0.000000         1674.000000            1.000000    560.000000   \n",
       "50%       2.000000         2489.500000            3.000000    575.000000   \n",
       "75%       3.000000         3295.000000            4.000000    582.000000   \n",
       "max       7.000000         6228.000000            5.000000    849.000000   \n",
       "\n",
       "       loyer_mensuel  montant_pret  \n",
       "count    4692.000000   4692.000000  \n",
       "mean      784.634788   7903.309318  \n",
       "std       176.661361  10662.526711  \n",
       "min       260.358100    500.000000  \n",
       "25%       679.603000    500.000000  \n",
       "50%       786.823000    500.000000  \n",
       "75%       889.392500  13415.811885  \n",
       "max      1298.335600  60000.000000  "
      ],
      "text/html": [
       "<div>\n",
       "<style scoped>\n",
       "    .dataframe tbody tr th:only-of-type {\n",
       "        vertical-align: middle;\n",
       "    }\n",
       "\n",
       "    .dataframe tbody tr th {\n",
       "        vertical-align: top;\n",
       "    }\n",
       "\n",
       "    .dataframe thead th {\n",
       "        text-align: right;\n",
       "    }\n",
       "</style>\n",
       "<table border=\"1\" class=\"dataframe\">\n",
       "  <thead>\n",
       "    <tr style=\"text-align: right;\">\n",
       "      <th></th>\n",
       "      <th>nb_enfants</th>\n",
       "      <th>revenu_estime_mois</th>\n",
       "      <th>historique_credits</th>\n",
       "      <th>score_credit</th>\n",
       "      <th>loyer_mensuel</th>\n",
       "      <th>montant_pret</th>\n",
       "    </tr>\n",
       "  </thead>\n",
       "  <tbody>\n",
       "    <tr>\n",
       "      <th>count</th>\n",
       "      <td>4692.000000</td>\n",
       "      <td>4692.000000</td>\n",
       "      <td>4692.000000</td>\n",
       "      <td>4692.000000</td>\n",
       "      <td>4692.000000</td>\n",
       "      <td>4692.000000</td>\n",
       "    </tr>\n",
       "    <tr>\n",
       "      <th>mean</th>\n",
       "      <td>1.598892</td>\n",
       "      <td>2508.968670</td>\n",
       "      <td>2.506820</td>\n",
       "      <td>573.216113</td>\n",
       "      <td>784.634788</td>\n",
       "      <td>7903.309318</td>\n",
       "    </tr>\n",
       "    <tr>\n",
       "      <th>std</th>\n",
       "      <td>1.397924</td>\n",
       "      <td>1146.548408</td>\n",
       "      <td>1.688411</td>\n",
       "      <td>107.050928</td>\n",
       "      <td>176.661361</td>\n",
       "      <td>10662.526711</td>\n",
       "    </tr>\n",
       "    <tr>\n",
       "      <th>min</th>\n",
       "      <td>-4.000000</td>\n",
       "      <td>500.000000</td>\n",
       "      <td>0.000000</td>\n",
       "      <td>300.000000</td>\n",
       "      <td>260.358100</td>\n",
       "      <td>500.000000</td>\n",
       "    </tr>\n",
       "    <tr>\n",
       "      <th>25%</th>\n",
       "      <td>0.000000</td>\n",
       "      <td>1674.000000</td>\n",
       "      <td>1.000000</td>\n",
       "      <td>560.000000</td>\n",
       "      <td>679.603000</td>\n",
       "      <td>500.000000</td>\n",
       "    </tr>\n",
       "    <tr>\n",
       "      <th>50%</th>\n",
       "      <td>2.000000</td>\n",
       "      <td>2489.500000</td>\n",
       "      <td>3.000000</td>\n",
       "      <td>575.000000</td>\n",
       "      <td>786.823000</td>\n",
       "      <td>500.000000</td>\n",
       "    </tr>\n",
       "    <tr>\n",
       "      <th>75%</th>\n",
       "      <td>3.000000</td>\n",
       "      <td>3295.000000</td>\n",
       "      <td>4.000000</td>\n",
       "      <td>582.000000</td>\n",
       "      <td>889.392500</td>\n",
       "      <td>13415.811885</td>\n",
       "    </tr>\n",
       "    <tr>\n",
       "      <th>max</th>\n",
       "      <td>7.000000</td>\n",
       "      <td>6228.000000</td>\n",
       "      <td>5.000000</td>\n",
       "      <td>849.000000</td>\n",
       "      <td>1298.335600</td>\n",
       "      <td>60000.000000</td>\n",
       "    </tr>\n",
       "  </tbody>\n",
       "</table>\n",
       "</div>"
      ]
     },
     "execution_count": 192,
     "metadata": {},
     "output_type": "execute_result"
    }
   ],
   "execution_count": 192
  },
  {
   "metadata": {
    "ExecuteTime": {
     "end_time": "2025-07-27T16:15:51.624254Z",
     "start_time": "2025-07-27T16:15:51.622323Z"
    }
   },
   "cell_type": "code",
   "source": [
    "#\n",
    "# Preparation des features et de la target\n",
    "#\n",
    "X = df.drop('montant_pret', axis=1)\n",
    "y = df['montant_pret']\n"
   ],
   "id": "46a93e07af1a0ece",
   "outputs": [],
   "execution_count": 193
  },
  {
   "metadata": {
    "ExecuteTime": {
     "end_time": "2025-07-27T16:15:51.685328Z",
     "start_time": "2025-07-27T16:15:51.682344Z"
    }
   },
   "cell_type": "code",
   "source": [
    "#\n",
    "# Pré-traitement des données des features\n",
    "#\n",
    "\n",
    "features_numeriques = X.select_dtypes(include=np.number).columns.tolist()\n",
    "features_text = X.select_dtypes(include=['object', 'category']).columns.tolist()\n",
    "\n",
    "print(f\"\\nColonnes numériques détectées: {features_numeriques}\")\n",
    "print(f\"Colonnes textuelles détectées: {features_text}\\n\")\n"
   ],
   "id": "d4e7c5658ee8fdf8",
   "outputs": [
    {
     "name": "stdout",
     "output_type": "stream",
     "text": [
      "\n",
      "Colonnes numériques détectées: ['nb_enfants', 'revenu_estime_mois', 'historique_credits', 'score_credit', 'loyer_mensuel']\n",
      "Colonnes textuelles détectées: ['sport_licence', 'niveau_etude', 'region', 'smoker']\n",
      "\n"
     ]
    }
   ],
   "execution_count": 194
  },
  {
   "metadata": {
    "ExecuteTime": {
     "end_time": "2025-07-27T16:15:51.737230Z",
     "start_time": "2025-07-27T16:15:51.735326Z"
    }
   },
   "cell_type": "code",
   "source": [
    "#\n",
    "# Creation d'un pipeline sklearn pour gérer les valeurs numérique et textuelle\n",
    "#\n",
    "\n",
    "preprocessor = make_column_transformer(\n",
    "    (StandardScaler(), features_numeriques),\n",
    "    (OneHotEncoder(handle_unknown='ignore', sparse_output=False), features_text)\n",
    ")\n"
   ],
   "id": "78894866573e5adf",
   "outputs": [],
   "execution_count": 195
  },
  {
   "metadata": {
    "ExecuteTime": {
     "end_time": "2025-07-27T16:15:51.787946Z",
     "start_time": "2025-07-27T16:15:51.785199Z"
    }
   },
   "cell_type": "code",
   "source": [
    "#\n",
    "# Split 80% de data de training, 20% de data de test avec un random_state déterminé pour conserver les mêmes séquences.\n",
    "#\n",
    "\n",
    "X_train, X_test, y_train, y_test = train_test_split(X, y, test_size=0.2, random_state=42)"
   ],
   "id": "fbb1cfac2717d0ab",
   "outputs": [],
   "execution_count": 196
  },
  {
   "metadata": {
    "ExecuteTime": {
     "end_time": "2025-07-27T16:15:51.849268Z",
     "start_time": "2025-07-27T16:15:51.840765Z"
    }
   },
   "cell_type": "code",
   "source": [
    "#\n",
    "# Preparation des données\n",
    "#\n",
    "\n",
    "X_train_processed = preprocessor.fit_transform(X_train)\n",
    "X_test_processed = preprocessor.transform(X_test)\n",
    "\n",
    "print(\"shape du dataset :\",X_train_processed.shape)\n",
    "\n",
    "# Affichage des données preprocessed pour voir à quoi ça ressemble.\n",
    "X_train_processed"
   ],
   "id": "a11b5b88371ebd00",
   "outputs": [
    {
     "name": "stdout",
     "output_type": "stream",
     "text": [
      "shape du dataset : (3753, 22)\n"
     ]
    },
    {
     "data": {
      "text/plain": [
       "array([[ 1.00507416,  2.02429831,  1.4810906 , ...,  0.        ,\n",
       "         0.        ,  1.        ],\n",
       "       [-0.42183839, -1.74672307, -0.89587456, ...,  0.        ,\n",
       "         1.        ,  0.        ],\n",
       "       [-0.42183839, -0.68519882,  1.4810906 , ...,  0.        ,\n",
       "         1.        ,  0.        ],\n",
       "       ...,\n",
       "       [-1.13529466,  1.97992312,  0.88684931, ...,  0.        ,\n",
       "         1.        ,  0.        ],\n",
       "       [ 1.71853043,  2.14872287,  1.4810906 , ...,  1.        ,\n",
       "         0.        ,  1.        ],\n",
       "       [-1.13529466, -1.09501679,  1.4810906 , ...,  0.        ,\n",
       "         1.        ,  0.        ]])"
      ]
     },
     "execution_count": 197,
     "metadata": {},
     "output_type": "execute_result"
    }
   ],
   "execution_count": 197
  },
  {
   "metadata": {
    "ExecuteTime": {
     "end_time": "2025-07-27T16:15:51.919166Z",
     "start_time": "2025-07-27T16:15:51.909736Z"
    }
   },
   "cell_type": "code",
   "source": [
    "#\n",
    "# Construction du model séquentiel (regression)\n",
    "#\n",
    "\n",
    "nb_features = X_train_processed.shape[1]\n",
    "print(\"nb_features du dataset :\", nb_features)\n",
    "\n",
    "model_new = tf.keras.Sequential([\n",
    "    # La couche d'entrée doit correspondre au nombre de features après prétraitement\n",
    "    # Ici 19 features\n",
    "    tf.keras.Input(shape=(nb_features,), name='input'),\n",
    "    tf.keras.layers.Dense(64, activation='relu', name='hidden1_64'),\n",
    "    tf.keras.layers.Dense(32, activation='relu', name='hidden2_32'),\n",
    "    # La couche de sortie a 1 neurone car on prédit une seule valeur (le montant)\n",
    "    tf.keras.layers.Dense(1, name='output_1')\n",
    "])"
   ],
   "id": "b0d90844c450bd6c",
   "outputs": [
    {
     "name": "stdout",
     "output_type": "stream",
     "text": [
      "nb_features du dataset : 22\n"
     ]
    }
   ],
   "execution_count": 198
  },
  {
   "metadata": {
    "ExecuteTime": {
     "end_time": "2025-07-27T16:15:51.977892Z",
     "start_time": "2025-07-27T16:15:51.973657Z"
    }
   },
   "cell_type": "code",
   "source": [
    "#\n",
    "# Copie du model\n",
    "#\n",
    "\n",
    "for layer in model.layers:\n",
    "    try:\n",
    "        old_layer = model.get_layer(layer.name)\n",
    "        layer.set_weights(old_layer.get_weights())\n",
    "        print(f\"✅ Poids transférés pour : {layer.name}\")\n",
    "    except ValueError:\n",
    "        print(f\"⛔ Incompatible ou nouvelle couche : {layer.name}\")\n"
   ],
   "id": "feab3a1bc7df86e4",
   "outputs": [
    {
     "name": "stdout",
     "output_type": "stream",
     "text": [
      "✅ Poids transférés pour : hidden1_64\n",
      "✅ Poids transférés pour : hidden2_32\n",
      "✅ Poids transférés pour : output_1\n"
     ]
    }
   ],
   "execution_count": 199
  },
  {
   "metadata": {
    "ExecuteTime": {
     "end_time": "2025-07-27T16:15:52.024428Z",
     "start_time": "2025-07-27T16:15:52.020821Z"
    }
   },
   "cell_type": "code",
   "source": [
    "#\n",
    "# Compilation du model\n",
    "#\n",
    "\n",
    "model_new.compile(\n",
    "    optimizer='adam',\n",
    "    loss='mean_squared_error',  # Erreur quadratique moyenne\n",
    "    metrics=[\n",
    "        'mae',\n",
    "        tf.keras.metrics.R2Score(name='r2_score')\n",
    "    ]             # Erreur absolue moyenne (plus facile à interpréter)\n",
    ")\n"
   ],
   "id": "c2f6629c6ce7eec1",
   "outputs": [],
   "execution_count": 200
  },
  {
   "metadata": {
    "ExecuteTime": {
     "end_time": "2025-07-27T16:15:58.467375Z",
     "start_time": "2025-07-27T16:15:52.068232Z"
    }
   },
   "cell_type": "code",
   "source": [
    "#\n",
    "# Entrainement\n",
    "#\n",
    "epoch = 75\n",
    "batch_size = 100\n",
    "with mlflow.start_run(run_name=\"training_model_2\") as mlrun:\n",
    "#if True: # Vieux tric pou désactiver mlflow sans devoir desindanter\n",
    "    history = model_new.fit(\n",
    "        X_train_processed,\n",
    "        y_train,\n",
    "        epochs=epoch,  # Nombre de passages sur l'ensemble des données\n",
    "        validation_data=(X_test_processed, y_test),\n",
    "        verbose=1,   # Affiche une barre de progression\n",
    "        batch_size=batch_size\n",
    "    )\n",
    "    print(\"--- Performance du model_new ---\")\n",
    "    loss, mae, r2 = model_new.evaluate(X_test_processed, y_test, verbose=0)\n",
    "    print(f\"Perte (Loss/MSE) sur l'ensemble de test: {loss:.2f}\")\n",
    "    print(f\"Erreur Absolue Moyenne (MAE) sur l'ensemble de test: {mae:.2f} €\")\n",
    "    print(f\"(Cela signifie qu'en moyenne, les prédictions du modèle s'écartent de {mae:.2f} € de la valeur réelle)\")\n",
    "    print(f\"R2 = {r2:.2f}\")\n",
    "\n",
    "    mlflow.log_metric(\"loss\", loss)\n",
    "    mlflow.log_metric(\"mae\", mae)\n",
    "    mlflow.log_metric(\"r2\", r2)\n"
   ],
   "id": "8be2a94ef695d9d8",
   "outputs": [
    {
     "name": "stderr",
     "output_type": "stream",
     "text": [
      "2025/07/27 20:15:52 WARNING mlflow.keras.autologging: Failed to log dataset information to MLflow. Reason: 'Series' object has no attribute 'flatten'\n"
     ]
    },
    {
     "data": {
      "text/plain": [],
      "text/html": [
       "<pre style=\"white-space:pre;overflow-x:auto;line-height:normal;font-family:Menlo,'DejaVu Sans Mono',consolas,'Courier New',monospace\"></pre>\n"
      ]
     },
     "metadata": {},
     "output_type": "display_data"
    },
    {
     "name": "stdout",
     "output_type": "stream",
     "text": [
      "Epoch 1/75\n",
      "\u001B[1m38/38\u001B[0m \u001B[32m━━━━━━━━━━━━━━━━━━━━\u001B[0m\u001B[37m\u001B[0m \u001B[1m0s\u001B[0m 3ms/step - loss: 169109232.0000 - mae: 7748.7534 - r2_score: -0.5518 - val_loss: 189026368.0000 - val_mae: 8291.1826 - val_r2_score: -0.5715\n",
      "Epoch 2/75\n",
      "\u001B[1m38/38\u001B[0m \u001B[32m━━━━━━━━━━━━━━━━━━━━\u001B[0m\u001B[37m\u001B[0m \u001B[1m0s\u001B[0m 1ms/step - loss: 176213360.0000 - mae: 7927.2573 - r2_score: -0.5548 - val_loss: 188773424.0000 - val_mae: 8277.0625 - val_r2_score: -0.5694\n",
      "Epoch 3/75\n",
      "\u001B[1m38/38\u001B[0m \u001B[32m━━━━━━━━━━━━━━━━━━━━\u001B[0m\u001B[37m\u001B[0m \u001B[1m0s\u001B[0m 978us/step - loss: 168827424.0000 - mae: 7679.3711 - r2_score: -0.5367 - val_loss: 188033152.0000 - val_mae: 8236.7451 - val_r2_score: -0.5632\n",
      "Epoch 4/75\n",
      "\u001B[1m38/38\u001B[0m \u001B[32m━━━━━━━━━━━━━━━━━━━━\u001B[0m\u001B[37m\u001B[0m \u001B[1m0s\u001B[0m 1ms/step - loss: 170846864.0000 - mae: 7696.2642 - r2_score: -0.5293 - val_loss: 186404800.0000 - val_mae: 8148.8423 - val_r2_score: -0.5497\n",
      "Epoch 5/75\n",
      "\u001B[1m38/38\u001B[0m \u001B[32m━━━━━━━━━━━━━━━━━━━━\u001B[0m\u001B[37m\u001B[0m \u001B[1m0s\u001B[0m 1ms/step - loss: 158794400.0000 - mae: 7359.3169 - r2_score: -0.5135 - val_loss: 183502144.0000 - val_mae: 7990.6821 - val_r2_score: -0.5255\n",
      "Epoch 6/75\n",
      "\u001B[1m38/38\u001B[0m \u001B[32m━━━━━━━━━━━━━━━━━━━━\u001B[0m\u001B[37m\u001B[0m \u001B[1m0s\u001B[0m 1ms/step - loss: 165079200.0000 - mae: 7348.7578 - r2_score: -0.4760 - val_loss: 179038912.0000 - val_mae: 7797.0576 - val_r2_score: -0.4884\n",
      "Epoch 7/75\n",
      "\u001B[1m38/38\u001B[0m \u001B[32m━━━━━━━━━━━━━━━━━━━━\u001B[0m\u001B[37m\u001B[0m \u001B[1m0s\u001B[0m 1ms/step - loss: 162277600.0000 - mae: 7368.0322 - r2_score: -0.4639 - val_loss: 172878800.0000 - val_mae: 7719.3140 - val_r2_score: -0.4372\n",
      "Epoch 8/75\n",
      "\u001B[1m38/38\u001B[0m \u001B[32m━━━━━━━━━━━━━━━━━━━━\u001B[0m\u001B[37m\u001B[0m \u001B[1m0s\u001B[0m 1ms/step - loss: 157907632.0000 - mae: 7352.4087 - r2_score: -0.4073 - val_loss: 165217456.0000 - val_mae: 7682.4229 - val_r2_score: -0.3735\n",
      "Epoch 9/75\n",
      "\u001B[1m38/38\u001B[0m \u001B[32m━━━━━━━━━━━━━━━━━━━━\u001B[0m\u001B[37m\u001B[0m \u001B[1m0s\u001B[0m 1ms/step - loss: 152693504.0000 - mae: 7387.5679 - r2_score: -0.3443 - val_loss: 156121248.0000 - val_mae: 7649.7402 - val_r2_score: -0.2979\n",
      "Epoch 10/75\n",
      "\u001B[1m38/38\u001B[0m \u001B[32m━━━━━━━━━━━━━━━━━━━━\u001B[0m\u001B[37m\u001B[0m \u001B[1m0s\u001B[0m 1ms/step - loss: 136931024.0000 - mae: 7169.8286 - r2_score: -0.2622 - val_loss: 146410624.0000 - val_mae: 7622.9858 - val_r2_score: -0.2172\n",
      "Epoch 11/75\n",
      "\u001B[1m38/38\u001B[0m \u001B[32m━━━━━━━━━━━━━━━━━━━━\u001B[0m\u001B[37m\u001B[0m \u001B[1m0s\u001B[0m 1ms/step - loss: 132508456.0000 - mae: 7186.7686 - r2_score: -0.1700 - val_loss: 136383648.0000 - val_mae: 7603.0298 - val_r2_score: -0.1338\n",
      "Epoch 12/75\n",
      "\u001B[1m38/38\u001B[0m \u001B[32m━━━━━━━━━━━━━━━━━━━━\u001B[0m\u001B[37m\u001B[0m \u001B[1m0s\u001B[0m 1ms/step - loss: 127511872.0000 - mae: 7317.2524 - r2_score: -0.0925 - val_loss: 127252968.0000 - val_mae: 7597.4365 - val_r2_score: -0.0579\n",
      "Epoch 13/75\n",
      "\u001B[1m38/38\u001B[0m \u001B[32m━━━━━━━━━━━━━━━━━━━━\u001B[0m\u001B[37m\u001B[0m \u001B[1m0s\u001B[0m 989us/step - loss: 116130016.0000 - mae: 7289.8433 - r2_score: -0.0243 - val_loss: 119035312.0000 - val_mae: 7609.7666 - val_r2_score: 0.0104\n",
      "Epoch 14/75\n",
      "\u001B[1m38/38\u001B[0m \u001B[32m━━━━━━━━━━━━━━━━━━━━\u001B[0m\u001B[37m\u001B[0m \u001B[1m0s\u001B[0m 997us/step - loss: 104065120.0000 - mae: 7221.7812 - r2_score: 0.0410 - val_loss: 112175344.0000 - val_mae: 7635.9653 - val_r2_score: 0.0674\n",
      "Epoch 15/75\n",
      "\u001B[1m38/38\u001B[0m \u001B[32m━━━━━━━━━━━━━━━━━━━━\u001B[0m\u001B[37m\u001B[0m \u001B[1m0s\u001B[0m 1ms/step - loss: 103836112.0000 - mae: 7433.6709 - r2_score: 0.0883 - val_loss: 106817104.0000 - val_mae: 7653.5547 - val_r2_score: 0.1120\n",
      "Epoch 16/75\n",
      "\u001B[1m38/38\u001B[0m \u001B[32m━━━━━━━━━━━━━━━━━━━━\u001B[0m\u001B[37m\u001B[0m \u001B[1m0s\u001B[0m 1ms/step - loss: 97688624.0000 - mae: 7396.2603 - r2_score: 0.1334 - val_loss: 102573496.0000 - val_mae: 7654.6079 - val_r2_score: 0.1473\n",
      "Epoch 17/75\n",
      "\u001B[1m38/38\u001B[0m \u001B[32m━━━━━━━━━━━━━━━━━━━━\u001B[0m\u001B[37m\u001B[0m \u001B[1m0s\u001B[0m 958us/step - loss: 94272392.0000 - mae: 7463.8535 - r2_score: 0.1535 - val_loss: 99158928.0000 - val_mae: 7635.1514 - val_r2_score: 0.1756\n",
      "Epoch 18/75\n",
      "\u001B[1m38/38\u001B[0m \u001B[32m━━━━━━━━━━━━━━━━━━━━\u001B[0m\u001B[37m\u001B[0m \u001B[1m0s\u001B[0m 965us/step - loss: 92768784.0000 - mae: 7416.3491 - r2_score: 0.1740 - val_loss: 96250128.0000 - val_mae: 7597.6777 - val_r2_score: 0.1998\n",
      "Epoch 19/75\n",
      "\u001B[1m38/38\u001B[0m \u001B[32m━━━━━━━━━━━━━━━━━━━━\u001B[0m\u001B[37m\u001B[0m \u001B[1m0s\u001B[0m 994us/step - loss: 85274464.0000 - mae: 7290.7510 - r2_score: 0.1995 - val_loss: 93807136.0000 - val_mae: 7541.8716 - val_r2_score: 0.2201\n",
      "Epoch 20/75\n",
      "\u001B[1m38/38\u001B[0m \u001B[32m━━━━━━━━━━━━━━━━━━━━\u001B[0m\u001B[37m\u001B[0m \u001B[1m0s\u001B[0m 965us/step - loss: 86364136.0000 - mae: 7335.5586 - r2_score: 0.2222 - val_loss: 91484704.0000 - val_mae: 7479.0645 - val_r2_score: 0.2394\n",
      "Epoch 21/75\n",
      "\u001B[1m38/38\u001B[0m \u001B[32m━━━━━━━━━━━━━━━━━━━━\u001B[0m\u001B[37m\u001B[0m \u001B[1m0s\u001B[0m 1ms/step - loss: 88141152.0000 - mae: 7366.4761 - r2_score: 0.2362 - val_loss: 89504944.0000 - val_mae: 7398.9946 - val_r2_score: 0.2559\n",
      "Epoch 22/75\n",
      "\u001B[1m38/38\u001B[0m \u001B[32m━━━━━━━━━━━━━━━━━━━━\u001B[0m\u001B[37m\u001B[0m \u001B[1m0s\u001B[0m 1ms/step - loss: 80376288.0000 - mae: 7166.3423 - r2_score: 0.2528 - val_loss: 87690072.0000 - val_mae: 7320.3472 - val_r2_score: 0.2710\n",
      "Epoch 23/75\n",
      "\u001B[1m38/38\u001B[0m \u001B[32m━━━━━━━━━━━━━━━━━━━━\u001B[0m\u001B[37m\u001B[0m \u001B[1m0s\u001B[0m 1ms/step - loss: 82580528.0000 - mae: 7132.4043 - r2_score: 0.2716 - val_loss: 85869600.0000 - val_mae: 7251.7222 - val_r2_score: 0.2861\n",
      "Epoch 24/75\n",
      "\u001B[1m38/38\u001B[0m \u001B[32m━━━━━━━━━━━━━━━━━━━━\u001B[0m\u001B[37m\u001B[0m \u001B[1m0s\u001B[0m 1ms/step - loss: 83793040.0000 - mae: 7212.6733 - r2_score: 0.2760 - val_loss: 84363056.0000 - val_mae: 7162.4038 - val_r2_score: 0.2986\n",
      "Epoch 25/75\n",
      "\u001B[1m38/38\u001B[0m \u001B[32m━━━━━━━━━━━━━━━━━━━━\u001B[0m\u001B[37m\u001B[0m \u001B[1m0s\u001B[0m 959us/step - loss: 77875680.0000 - mae: 6933.3076 - r2_score: 0.2912 - val_loss: 82910160.0000 - val_mae: 7081.9580 - val_r2_score: 0.3107\n",
      "Epoch 26/75\n",
      "\u001B[1m38/38\u001B[0m \u001B[32m━━━━━━━━━━━━━━━━━━━━\u001B[0m\u001B[37m\u001B[0m \u001B[1m0s\u001B[0m 1ms/step - loss: 77934512.0000 - mae: 6977.4048 - r2_score: 0.3087 - val_loss: 81593608.0000 - val_mae: 7003.4453 - val_r2_score: 0.3217\n",
      "Epoch 27/75\n",
      "\u001B[1m38/38\u001B[0m \u001B[32m━━━━━━━━━━━━━━━━━━━━\u001B[0m\u001B[37m\u001B[0m \u001B[1m0s\u001B[0m 1ms/step - loss: 76870240.0000 - mae: 6912.6777 - r2_score: 0.3061 - val_loss: 80286688.0000 - val_mae: 6934.7100 - val_r2_score: 0.3325\n",
      "Epoch 28/75\n",
      "\u001B[1m38/38\u001B[0m \u001B[32m━━━━━━━━━━━━━━━━━━━━\u001B[0m\u001B[37m\u001B[0m \u001B[1m0s\u001B[0m 963us/step - loss: 76159008.0000 - mae: 6829.8232 - r2_score: 0.3256 - val_loss: 79070728.0000 - val_mae: 6868.2856 - val_r2_score: 0.3426\n",
      "Epoch 29/75\n",
      "\u001B[1m38/38\u001B[0m \u001B[32m━━━━━━━━━━━━━━━━━━━━\u001B[0m\u001B[37m\u001B[0m \u001B[1m0s\u001B[0m 990us/step - loss: 71154536.0000 - mae: 6637.7979 - r2_score: 0.3449 - val_loss: 78060936.0000 - val_mae: 6795.2310 - val_r2_score: 0.3510\n",
      "Epoch 30/75\n",
      "\u001B[1m38/38\u001B[0m \u001B[32m━━━━━━━━━━━━━━━━━━━━\u001B[0m\u001B[37m\u001B[0m \u001B[1m0s\u001B[0m 1ms/step - loss: 79135400.0000 - mae: 6933.7627 - r2_score: 0.3419 - val_loss: 76956208.0000 - val_mae: 6737.6680 - val_r2_score: 0.3602\n",
      "Epoch 31/75\n",
      "\u001B[1m38/38\u001B[0m \u001B[32m━━━━━━━━━━━━━━━━━━━━\u001B[0m\u001B[37m\u001B[0m \u001B[1m0s\u001B[0m 1ms/step - loss: 73102064.0000 - mae: 6660.9009 - r2_score: 0.3475 - val_loss: 76100632.0000 - val_mae: 6670.5459 - val_r2_score: 0.3673\n",
      "Epoch 32/75\n",
      "\u001B[1m38/38\u001B[0m \u001B[32m━━━━━━━━━━━━━━━━━━━━\u001B[0m\u001B[37m\u001B[0m \u001B[1m0s\u001B[0m 1ms/step - loss: 70418960.0000 - mae: 6540.9780 - r2_score: 0.3587 - val_loss: 75221384.0000 - val_mae: 6616.1470 - val_r2_score: 0.3746\n",
      "Epoch 33/75\n",
      "\u001B[1m38/38\u001B[0m \u001B[32m━━━━━━━━━━━━━━━━━━━━\u001B[0m\u001B[37m\u001B[0m \u001B[1m0s\u001B[0m 996us/step - loss: 68684152.0000 - mae: 6413.8110 - r2_score: 0.3670 - val_loss: 74386888.0000 - val_mae: 6567.2622 - val_r2_score: 0.3816\n",
      "Epoch 34/75\n",
      "\u001B[1m38/38\u001B[0m \u001B[32m━━━━━━━━━━━━━━━━━━━━\u001B[0m\u001B[37m\u001B[0m \u001B[1m0s\u001B[0m 1ms/step - loss: 71995328.0000 - mae: 6548.5674 - r2_score: 0.3734 - val_loss: 73579464.0000 - val_mae: 6514.4131 - val_r2_score: 0.3883\n",
      "Epoch 35/75\n",
      "\u001B[1m38/38\u001B[0m \u001B[32m━━━━━━━━━━━━━━━━━━━━\u001B[0m\u001B[37m\u001B[0m \u001B[1m0s\u001B[0m 1ms/step - loss: 68082352.0000 - mae: 6364.3862 - r2_score: 0.3755 - val_loss: 72945256.0000 - val_mae: 6467.1631 - val_r2_score: 0.3936\n",
      "Epoch 36/75\n",
      "\u001B[1m38/38\u001B[0m \u001B[32m━━━━━━━━━━━━━━━━━━━━\u001B[0m\u001B[37m\u001B[0m \u001B[1m0s\u001B[0m 1ms/step - loss: 66780300.0000 - mae: 6252.9160 - r2_score: 0.3827 - val_loss: 72283408.0000 - val_mae: 6424.6367 - val_r2_score: 0.3991\n",
      "Epoch 37/75\n",
      "\u001B[1m38/38\u001B[0m \u001B[32m━━━━━━━━━━━━━━━━━━━━\u001B[0m\u001B[37m\u001B[0m \u001B[1m0s\u001B[0m 1ms/step - loss: 70375472.0000 - mae: 6424.6089 - r2_score: 0.4008 - val_loss: 71651560.0000 - val_mae: 6382.2285 - val_r2_score: 0.4043\n",
      "Epoch 38/75\n",
      "\u001B[1m38/38\u001B[0m \u001B[32m━━━━━━━━━━━━━━━━━━━━\u001B[0m\u001B[37m\u001B[0m \u001B[1m0s\u001B[0m 1ms/step - loss: 64230092.0000 - mae: 6140.5747 - r2_score: 0.3976 - val_loss: 71126040.0000 - val_mae: 6342.0474 - val_r2_score: 0.4087\n",
      "Epoch 39/75\n",
      "\u001B[1m38/38\u001B[0m \u001B[32m━━━━━━━━━━━━━━━━━━━━\u001B[0m\u001B[37m\u001B[0m \u001B[1m0s\u001B[0m 1ms/step - loss: 67456768.0000 - mae: 6269.3584 - r2_score: 0.3999 - val_loss: 70570208.0000 - val_mae: 6305.2085 - val_r2_score: 0.4133\n",
      "Epoch 40/75\n",
      "\u001B[1m38/38\u001B[0m \u001B[32m━━━━━━━━━━━━━━━━━━━━\u001B[0m\u001B[37m\u001B[0m \u001B[1m0s\u001B[0m 1ms/step - loss: 66440828.0000 - mae: 6178.7168 - r2_score: 0.4006 - val_loss: 70056560.0000 - val_mae: 6270.9331 - val_r2_score: 0.4176\n",
      "Epoch 41/75\n",
      "\u001B[1m38/38\u001B[0m \u001B[32m━━━━━━━━━━━━━━━━━━━━\u001B[0m\u001B[37m\u001B[0m \u001B[1m0s\u001B[0m 1ms/step - loss: 62410648.0000 - mae: 5940.9150 - r2_score: 0.4177 - val_loss: 69643360.0000 - val_mae: 6237.8687 - val_r2_score: 0.4210\n",
      "Epoch 42/75\n",
      "\u001B[1m38/38\u001B[0m \u001B[32m━━━━━━━━━━━━━━━━━━━━\u001B[0m\u001B[37m\u001B[0m \u001B[1m0s\u001B[0m 967us/step - loss: 66862788.0000 - mae: 6172.4512 - r2_score: 0.4037 - val_loss: 69285360.0000 - val_mae: 6206.5327 - val_r2_score: 0.4240\n",
      "Epoch 43/75\n",
      "\u001B[1m38/38\u001B[0m \u001B[32m━━━━━━━━━━━━━━━━━━━━\u001B[0m\u001B[37m\u001B[0m \u001B[1m0s\u001B[0m 972us/step - loss: 66004328.0000 - mae: 6153.2847 - r2_score: 0.4098 - val_loss: 68908720.0000 - val_mae: 6176.3506 - val_r2_score: 0.4271\n",
      "Epoch 44/75\n",
      "\u001B[1m38/38\u001B[0m \u001B[32m━━━━━━━━━━━━━━━━━━━━\u001B[0m\u001B[37m\u001B[0m \u001B[1m0s\u001B[0m 1ms/step - loss: 63777456.0000 - mae: 5999.4067 - r2_score: 0.4181 - val_loss: 68582696.0000 - val_mae: 6150.3091 - val_r2_score: 0.4298\n",
      "Epoch 45/75\n",
      "\u001B[1m38/38\u001B[0m \u001B[32m━━━━━━━━━━━━━━━━━━━━\u001B[0m\u001B[37m\u001B[0m \u001B[1m0s\u001B[0m 1ms/step - loss: 66300148.0000 - mae: 6149.5273 - r2_score: 0.4058 - val_loss: 68233008.0000 - val_mae: 6127.4673 - val_r2_score: 0.4327\n",
      "Epoch 46/75\n",
      "\u001B[1m38/38\u001B[0m \u001B[32m━━━━━━━━━━━━━━━━━━━━\u001B[0m\u001B[37m\u001B[0m \u001B[1m0s\u001B[0m 1ms/step - loss: 66070712.0000 - mae: 6096.2485 - r2_score: 0.4205 - val_loss: 67898736.0000 - val_mae: 6105.0566 - val_r2_score: 0.4355\n",
      "Epoch 47/75\n",
      "\u001B[1m38/38\u001B[0m \u001B[32m━━━━━━━━━━━━━━━━━━━━\u001B[0m\u001B[37m\u001B[0m \u001B[1m0s\u001B[0m 965us/step - loss: 65081796.0000 - mae: 6052.5356 - r2_score: 0.4296 - val_loss: 67720560.0000 - val_mae: 6080.1143 - val_r2_score: 0.4370\n",
      "Epoch 48/75\n",
      "\u001B[1m38/38\u001B[0m \u001B[32m━━━━━━━━━━━━━━━━━━━━\u001B[0m\u001B[37m\u001B[0m \u001B[1m0s\u001B[0m 1ms/step - loss: 64673924.0000 - mae: 6030.5469 - r2_score: 0.4124 - val_loss: 67457944.0000 - val_mae: 6059.4756 - val_r2_score: 0.4392\n",
      "Epoch 49/75\n",
      "\u001B[1m38/38\u001B[0m \u001B[32m━━━━━━━━━━━━━━━━━━━━\u001B[0m\u001B[37m\u001B[0m \u001B[1m0s\u001B[0m 992us/step - loss: 62541452.0000 - mae: 5886.4536 - r2_score: 0.4245 - val_loss: 67316416.0000 - val_mae: 6040.6138 - val_r2_score: 0.4404\n",
      "Epoch 50/75\n",
      "\u001B[1m38/38\u001B[0m \u001B[32m━━━━━━━━━━━━━━━━━━━━\u001B[0m\u001B[37m\u001B[0m \u001B[1m0s\u001B[0m 1ms/step - loss: 65549992.0000 - mae: 6055.5464 - r2_score: 0.4410 - val_loss: 67013072.0000 - val_mae: 6022.8115 - val_r2_score: 0.4429\n",
      "Epoch 51/75\n",
      "\u001B[1m38/38\u001B[0m \u001B[32m━━━━━━━━━━━━━━━━━━━━\u001B[0m\u001B[37m\u001B[0m \u001B[1m0s\u001B[0m 1ms/step - loss: 64390880.0000 - mae: 6015.0142 - r2_score: 0.4268 - val_loss: 66894104.0000 - val_mae: 6005.2866 - val_r2_score: 0.4439\n",
      "Epoch 52/75\n",
      "\u001B[1m38/38\u001B[0m \u001B[32m━━━━━━━━━━━━━━━━━━━━\u001B[0m\u001B[37m\u001B[0m \u001B[1m0s\u001B[0m 1ms/step - loss: 63530476.0000 - mae: 5920.1562 - r2_score: 0.4146 - val_loss: 66753552.0000 - val_mae: 5991.3125 - val_r2_score: 0.4450\n",
      "Epoch 53/75\n",
      "\u001B[1m38/38\u001B[0m \u001B[32m━━━━━━━━━━━━━━━━━━━━\u001B[0m\u001B[37m\u001B[0m \u001B[1m0s\u001B[0m 1ms/step - loss: 64122972.0000 - mae: 5925.2456 - r2_score: 0.4439 - val_loss: 66511808.0000 - val_mae: 5977.7788 - val_r2_score: 0.4471\n",
      "Epoch 54/75\n",
      "\u001B[1m38/38\u001B[0m \u001B[32m━━━━━━━━━━━━━━━━━━━━\u001B[0m\u001B[37m\u001B[0m \u001B[1m0s\u001B[0m 993us/step - loss: 62303400.0000 - mae: 5833.7407 - r2_score: 0.4350 - val_loss: 66500252.0000 - val_mae: 5964.3418 - val_r2_score: 0.4472\n",
      "Epoch 55/75\n",
      "\u001B[1m38/38\u001B[0m \u001B[32m━━━━━━━━━━━━━━━━━━━━\u001B[0m\u001B[37m\u001B[0m \u001B[1m0s\u001B[0m 1ms/step - loss: 63239196.0000 - mae: 5878.9170 - r2_score: 0.4323 - val_loss: 66366036.0000 - val_mae: 5953.6050 - val_r2_score: 0.4483\n",
      "Epoch 56/75\n",
      "\u001B[1m38/38\u001B[0m \u001B[32m━━━━━━━━━━━━━━━━━━━━\u001B[0m\u001B[37m\u001B[0m \u001B[1m0s\u001B[0m 1ms/step - loss: 62468012.0000 - mae: 5896.1836 - r2_score: 0.4539 - val_loss: 66265744.0000 - val_mae: 5942.1069 - val_r2_score: 0.4491\n",
      "Epoch 57/75\n",
      "\u001B[1m38/38\u001B[0m \u001B[32m━━━━━━━━━━━━━━━━━━━━\u001B[0m\u001B[37m\u001B[0m \u001B[1m0s\u001B[0m 1ms/step - loss: 60104484.0000 - mae: 5730.0024 - r2_score: 0.4524 - val_loss: 66171396.0000 - val_mae: 5931.9492 - val_r2_score: 0.4499\n",
      "Epoch 58/75\n",
      "\u001B[1m38/38\u001B[0m \u001B[32m━━━━━━━━━━━━━━━━━━━━\u001B[0m\u001B[37m\u001B[0m \u001B[1m0s\u001B[0m 1ms/step - loss: 60753040.0000 - mae: 5759.5854 - r2_score: 0.4478 - val_loss: 66085092.0000 - val_mae: 5922.3057 - val_r2_score: 0.4506\n",
      "Epoch 59/75\n",
      "\u001B[1m38/38\u001B[0m \u001B[32m━━━━━━━━━━━━━━━━━━━━\u001B[0m\u001B[37m\u001B[0m \u001B[1m0s\u001B[0m 1ms/step - loss: 64329032.0000 - mae: 5920.7236 - r2_score: 0.4316 - val_loss: 66026844.0000 - val_mae: 5913.0596 - val_r2_score: 0.4511\n",
      "Epoch 60/75\n",
      "\u001B[1m38/38\u001B[0m \u001B[32m━━━━━━━━━━━━━━━━━━━━\u001B[0m\u001B[37m\u001B[0m \u001B[1m0s\u001B[0m 1ms/step - loss: 60070772.0000 - mae: 5686.5562 - r2_score: 0.4599 - val_loss: 65964828.0000 - val_mae: 5905.0020 - val_r2_score: 0.4516\n",
      "Epoch 61/75\n",
      "\u001B[1m38/38\u001B[0m \u001B[32m━━━━━━━━━━━━━━━━━━━━\u001B[0m\u001B[37m\u001B[0m \u001B[1m0s\u001B[0m 1ms/step - loss: 61074096.0000 - mae: 5796.9131 - r2_score: 0.4176 - val_loss: 65960068.0000 - val_mae: 5898.0117 - val_r2_score: 0.4516\n",
      "Epoch 62/75\n",
      "\u001B[1m38/38\u001B[0m \u001B[32m━━━━━━━━━━━━━━━━━━━━\u001B[0m\u001B[37m\u001B[0m \u001B[1m0s\u001B[0m 996us/step - loss: 66741072.0000 - mae: 6006.2720 - r2_score: 0.4261 - val_loss: 65802328.0000 - val_mae: 5889.5396 - val_r2_score: 0.4530\n",
      "Epoch 63/75\n",
      "\u001B[1m38/38\u001B[0m \u001B[32m━━━━━━━━━━━━━━━━━━━━\u001B[0m\u001B[37m\u001B[0m \u001B[1m0s\u001B[0m 1ms/step - loss: 62941488.0000 - mae: 5897.5654 - r2_score: 0.4572 - val_loss: 65813360.0000 - val_mae: 5882.5225 - val_r2_score: 0.4529\n",
      "Epoch 64/75\n",
      "\u001B[1m38/38\u001B[0m \u001B[32m━━━━━━━━━━━━━━━━━━━━\u001B[0m\u001B[37m\u001B[0m \u001B[1m0s\u001B[0m 1ms/step - loss: 63463608.0000 - mae: 5868.0396 - r2_score: 0.4342 - val_loss: 65819232.0000 - val_mae: 5876.0771 - val_r2_score: 0.4528\n",
      "Epoch 65/75\n",
      "\u001B[1m38/38\u001B[0m \u001B[32m━━━━━━━━━━━━━━━━━━━━\u001B[0m\u001B[37m\u001B[0m \u001B[1m0s\u001B[0m 1ms/step - loss: 62240292.0000 - mae: 5790.4053 - r2_score: 0.4323 - val_loss: 65716360.0000 - val_mae: 5869.9790 - val_r2_score: 0.4537\n",
      "Epoch 66/75\n",
      "\u001B[1m38/38\u001B[0m \u001B[32m━━━━━━━━━━━━━━━━━━━━\u001B[0m\u001B[37m\u001B[0m \u001B[1m0s\u001B[0m 1ms/step - loss: 62681168.0000 - mae: 5825.0327 - r2_score: 0.4446 - val_loss: 65740668.0000 - val_mae: 5866.0942 - val_r2_score: 0.4535\n",
      "Epoch 67/75\n",
      "\u001B[1m38/38\u001B[0m \u001B[32m━━━━━━━━━━━━━━━━━━━━\u001B[0m\u001B[37m\u001B[0m \u001B[1m0s\u001B[0m 976us/step - loss: 61042544.0000 - mae: 5736.5684 - r2_score: 0.4587 - val_loss: 65638600.0000 - val_mae: 5859.2861 - val_r2_score: 0.4543\n",
      "Epoch 68/75\n",
      "\u001B[1m38/38\u001B[0m \u001B[32m━━━━━━━━━━━━━━━━━━━━\u001B[0m\u001B[37m\u001B[0m \u001B[1m0s\u001B[0m 986us/step - loss: 62711776.0000 - mae: 5798.4883 - r2_score: 0.4146 - val_loss: 65719160.0000 - val_mae: 5856.1426 - val_r2_score: 0.4536\n",
      "Epoch 69/75\n",
      "\u001B[1m38/38\u001B[0m \u001B[32m━━━━━━━━━━━━━━━━━━━━\u001B[0m\u001B[37m\u001B[0m \u001B[1m0s\u001B[0m 1ms/step - loss: 62251168.0000 - mae: 5806.1929 - r2_score: 0.4205 - val_loss: 65630980.0000 - val_mae: 5851.0718 - val_r2_score: 0.4544\n",
      "Epoch 70/75\n",
      "\u001B[1m38/38\u001B[0m \u001B[32m━━━━━━━━━━━━━━━━━━━━\u001B[0m\u001B[37m\u001B[0m \u001B[1m0s\u001B[0m 978us/step - loss: 65415612.0000 - mae: 5960.2251 - r2_score: 0.4344 - val_loss: 65544876.0000 - val_mae: 5844.3462 - val_r2_score: 0.4551\n",
      "Epoch 71/75\n",
      "\u001B[1m38/38\u001B[0m \u001B[32m━━━━━━━━━━━━━━━━━━━━\u001B[0m\u001B[37m\u001B[0m \u001B[1m0s\u001B[0m 1ms/step - loss: 62620392.0000 - mae: 5808.1045 - r2_score: 0.4331 - val_loss: 65613072.0000 - val_mae: 5842.4829 - val_r2_score: 0.4545\n",
      "Epoch 72/75\n",
      "\u001B[1m38/38\u001B[0m \u001B[32m━━━━━━━━━━━━━━━━━━━━\u001B[0m\u001B[37m\u001B[0m \u001B[1m0s\u001B[0m 1ms/step - loss: 62475952.0000 - mae: 5816.7344 - r2_score: 0.4445 - val_loss: 65517776.0000 - val_mae: 5836.9238 - val_r2_score: 0.4553\n",
      "Epoch 73/75\n",
      "\u001B[1m38/38\u001B[0m \u001B[32m━━━━━━━━━━━━━━━━━━━━\u001B[0m\u001B[37m\u001B[0m \u001B[1m0s\u001B[0m 1ms/step - loss: 64067576.0000 - mae: 5887.2666 - r2_score: 0.4567 - val_loss: 65577692.0000 - val_mae: 5834.1294 - val_r2_score: 0.4548\n",
      "Epoch 74/75\n",
      "\u001B[1m38/38\u001B[0m \u001B[32m━━━━━━━━━━━━━━━━━━━━\u001B[0m\u001B[37m\u001B[0m \u001B[1m0s\u001B[0m 987us/step - loss: 61987480.0000 - mae: 5734.3594 - r2_score: 0.4514 - val_loss: 65606708.0000 - val_mae: 5831.5928 - val_r2_score: 0.4546\n",
      "Epoch 75/75\n",
      "\u001B[1m38/38\u001B[0m \u001B[32m━━━━━━━━━━━━━━━━━━━━\u001B[0m\u001B[37m\u001B[0m \u001B[1m0s\u001B[0m 1ms/step - loss: 63544320.0000 - mae: 5899.1636 - r2_score: 0.4417 - val_loss: 65518712.0000 - val_mae: 5828.2754 - val_r2_score: 0.4553\n"
     ]
    },
    {
     "name": "stderr",
     "output_type": "stream",
     "text": [
      "2025/07/27 20:15:56 WARNING mlflow.models.model: `artifact_path` is deprecated. Please use `name` instead.\n"
     ]
    },
    {
     "name": "stdout",
     "output_type": "stream",
     "text": [
      "--- Performance du model_new ---\n",
      "Perte (Loss/MSE) sur l'ensemble de test: 65518728.00\n",
      "Erreur Absolue Moyenne (MAE) sur l'ensemble de test: 5828.28 €\n",
      "(Cela signifie qu'en moyenne, les prédictions du modèle s'écartent de 5828.28 € de la valeur réelle)\n",
      "R2 = 0.46\n",
      "🏃 View run training_model_2 at: http://localhost:5000/#/experiments/0/runs/9102aec87fcc43d1ab881992d87225d4\n",
      "🧪 View experiment at: http://localhost:5000/#/experiments/0\n"
     ]
    }
   ],
   "execution_count": 201
  },
  {
   "metadata": {
    "ExecuteTime": {
     "end_time": "2025-07-27T16:15:58.490388Z",
     "start_time": "2025-07-27T16:15:58.480278Z"
    }
   },
   "cell_type": "code",
   "source": "joblib.dump(model_new, os.path.join('ai_models',f'model_new_epoch-{epoch}_batch-{batch_size}_r2-{r2}.pkl'))",
   "id": "51ec25c849b37f6c",
   "outputs": [
    {
     "data": {
      "text/plain": [
       "['ai_models/model_new_epoch-75_batch-100_r2-0.45531147718429565.pkl']"
      ]
     },
     "execution_count": 202,
     "metadata": {},
     "output_type": "execute_result"
    }
   ],
   "execution_count": 202
  }
 ],
 "metadata": {
  "kernelspec": {
   "display_name": "Python 3",
   "language": "python",
   "name": "python3"
  },
  "language_info": {
   "codemirror_mode": {
    "name": "ipython",
    "version": 2
   },
   "file_extension": ".py",
   "mimetype": "text/x-python",
   "name": "python",
   "nbconvert_exporter": "python",
   "pygments_lexer": "ipython2",
   "version": "2.7.6"
  }
 },
 "nbformat": 4,
 "nbformat_minor": 5
}
