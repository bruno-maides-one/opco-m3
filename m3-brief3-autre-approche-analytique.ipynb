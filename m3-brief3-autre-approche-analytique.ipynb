{
 "cells": [
  {
   "cell_type": "code",
   "id": "initial_id",
   "metadata": {
    "collapsed": true,
    "ExecuteTime": {
     "end_time": "2025-07-27T15:05:52.269425Z",
     "start_time": "2025-07-27T15:05:52.256258Z"
    }
   },
   "source": [
    "import pandas as pd\n",
    "import tensorflow as tf\n",
    "import tensorflow_data_validation as tfdv\n",
    "print('TF version:', tf.__version__)\n",
    "print('TFDV version:', tfdv.version.__version__)"
   ],
   "outputs": [
    {
     "ename": "ImportError",
     "evalue": "/home/bruno/anaconda3/envs/OPCO-Module-3-p3.11/lib/python3.11/site-packages/zmq/backend/cython/../../../../.././libstdc++.so.6: version `GLIBCXX_3.4.32' not found (required by /home/bruno/anaconda3/envs/OPCO-Module-3-p3.11/lib/python3.11/site-packages/farmhash.cpython-311-x86_64-linux-gnu.so)",
     "output_type": "error",
     "traceback": [
      "\u001B[0;31m---------------------------------------------------------------------------\u001B[0m",
      "\u001B[0;31mImportError\u001B[0m                               Traceback (most recent call last)",
      "\u001B[0;32m/tmp/ipykernel_56514/1778208833.py\u001B[0m in \u001B[0;36m<cell line: 0>\u001B[0;34m()\u001B[0m\n\u001B[1;32m      1\u001B[0m \u001B[0;32mimport\u001B[0m \u001B[0mpandas\u001B[0m \u001B[0;32mas\u001B[0m \u001B[0mpd\u001B[0m\u001B[0;34m\u001B[0m\u001B[0;34m\u001B[0m\u001B[0m\n\u001B[1;32m      2\u001B[0m \u001B[0;32mimport\u001B[0m \u001B[0mtensorflow\u001B[0m \u001B[0;32mas\u001B[0m \u001B[0mtf\u001B[0m\u001B[0;34m\u001B[0m\u001B[0;34m\u001B[0m\u001B[0m\n\u001B[0;32m----> 3\u001B[0;31m \u001B[0;32mimport\u001B[0m \u001B[0mtensorflow_data_validation\u001B[0m \u001B[0;32mas\u001B[0m \u001B[0mtfdv\u001B[0m\u001B[0;34m\u001B[0m\u001B[0;34m\u001B[0m\u001B[0m\n\u001B[0m\u001B[1;32m      4\u001B[0m \u001B[0mprint\u001B[0m\u001B[0;34m(\u001B[0m\u001B[0;34m'TF version:'\u001B[0m\u001B[0;34m,\u001B[0m \u001B[0mtf\u001B[0m\u001B[0;34m.\u001B[0m\u001B[0m__version__\u001B[0m\u001B[0;34m)\u001B[0m\u001B[0;34m\u001B[0m\u001B[0;34m\u001B[0m\u001B[0m\n\u001B[1;32m      5\u001B[0m \u001B[0mprint\u001B[0m\u001B[0;34m(\u001B[0m\u001B[0;34m'TFDV version:'\u001B[0m\u001B[0;34m,\u001B[0m \u001B[0mtfdv\u001B[0m\u001B[0;34m.\u001B[0m\u001B[0mversion\u001B[0m\u001B[0;34m.\u001B[0m\u001B[0m__version__\u001B[0m\u001B[0;34m)\u001B[0m\u001B[0;34m\u001B[0m\u001B[0;34m\u001B[0m\u001B[0m\n",
      "\u001B[0;32m~/anaconda3/envs/OPCO-Module-3-p3.11/lib/python3.11/site-packages/tensorflow_data_validation/__init__.py\u001B[0m in \u001B[0;36m<module>\u001B[0;34m\u001B[0m\n\u001B[1;32m     16\u001B[0m \u001B[0;34m\u001B[0m\u001B[0m\n\u001B[1;32m     17\u001B[0m \u001B[0;31m# Import stats API.\u001B[0m\u001B[0;34m\u001B[0m\u001B[0;34m\u001B[0m\u001B[0m\n\u001B[0;32m---> 18\u001B[0;31m \u001B[0;32mfrom\u001B[0m \u001B[0mtensorflow_data_validation\u001B[0m\u001B[0;34m.\u001B[0m\u001B[0mapi\u001B[0m\u001B[0;34m.\u001B[0m\u001B[0mstats_api\u001B[0m \u001B[0;32mimport\u001B[0m \u001B[0mdefault_sharded_output_suffix\u001B[0m\u001B[0;34m\u001B[0m\u001B[0;34m\u001B[0m\u001B[0m\n\u001B[0m\u001B[1;32m     19\u001B[0m \u001B[0;32mfrom\u001B[0m \u001B[0mtensorflow_data_validation\u001B[0m\u001B[0;34m.\u001B[0m\u001B[0mapi\u001B[0m\u001B[0;34m.\u001B[0m\u001B[0mstats_api\u001B[0m \u001B[0;32mimport\u001B[0m \u001B[0mdefault_sharded_output_supported\u001B[0m\u001B[0;34m\u001B[0m\u001B[0;34m\u001B[0m\u001B[0m\n\u001B[1;32m     20\u001B[0m \u001B[0;32mfrom\u001B[0m \u001B[0mtensorflow_data_validation\u001B[0m\u001B[0;34m.\u001B[0m\u001B[0mapi\u001B[0m\u001B[0;34m.\u001B[0m\u001B[0mstats_api\u001B[0m \u001B[0;32mimport\u001B[0m \u001B[0mGenerateStatistics\u001B[0m\u001B[0;34m\u001B[0m\u001B[0;34m\u001B[0m\u001B[0m\n",
      "\u001B[0;32m~/anaconda3/envs/OPCO-Module-3-p3.11/lib/python3.11/site-packages/tensorflow_data_validation/api/stats_api.py\u001B[0m in \u001B[0;36m<module>\u001B[0;34m\u001B[0m\n\u001B[1;32m     50\u001B[0m \u001B[0;32mimport\u001B[0m \u001B[0mpyarrow\u001B[0m \u001B[0;32mas\u001B[0m \u001B[0mpa\u001B[0m\u001B[0;34m\u001B[0m\u001B[0;34m\u001B[0m\u001B[0m\n\u001B[1;32m     51\u001B[0m \u001B[0;32mfrom\u001B[0m \u001B[0mtensorflow_data_validation\u001B[0m\u001B[0;34m.\u001B[0m\u001B[0mutils\u001B[0m \u001B[0;32mimport\u001B[0m \u001B[0martifacts_io_impl\u001B[0m\u001B[0;34m\u001B[0m\u001B[0;34m\u001B[0m\u001B[0m\n\u001B[0;32m---> 52\u001B[0;31m \u001B[0;32mfrom\u001B[0m \u001B[0mtensorflow_data_validation\u001B[0m\u001B[0;34m.\u001B[0m\u001B[0mstatistics\u001B[0m \u001B[0;32mimport\u001B[0m \u001B[0mstats_impl\u001B[0m\u001B[0;34m\u001B[0m\u001B[0;34m\u001B[0m\u001B[0m\n\u001B[0m\u001B[1;32m     53\u001B[0m \u001B[0;32mfrom\u001B[0m \u001B[0mtensorflow_data_validation\u001B[0m\u001B[0;34m.\u001B[0m\u001B[0mstatistics\u001B[0m \u001B[0;32mimport\u001B[0m \u001B[0mstats_options\u001B[0m\u001B[0;34m\u001B[0m\u001B[0;34m\u001B[0m\u001B[0m\n\u001B[1;32m     54\u001B[0m \u001B[0;32mfrom\u001B[0m \u001B[0mtfx_bsl\u001B[0m\u001B[0;34m.\u001B[0m\u001B[0mstatistics\u001B[0m \u001B[0;32mimport\u001B[0m \u001B[0mmerge_util\u001B[0m\u001B[0;34m\u001B[0m\u001B[0;34m\u001B[0m\u001B[0m\n",
      "\u001B[0;32m~/anaconda3/envs/OPCO-Module-3-p3.11/lib/python3.11/site-packages/tensorflow_data_validation/statistics/stats_impl.py\u001B[0m in \u001B[0;36m<module>\u001B[0;34m\u001B[0m\n\u001B[1;32m     26\u001B[0m \u001B[0;32mfrom\u001B[0m \u001B[0mtensorflow_data_validation\u001B[0m\u001B[0;34m.\u001B[0m\u001B[0mutils\u001B[0m \u001B[0;32mimport\u001B[0m \u001B[0mpreprocessing_util\u001B[0m\u001B[0;34m\u001B[0m\u001B[0;34m\u001B[0m\u001B[0m\n\u001B[1;32m     27\u001B[0m \u001B[0;32mfrom\u001B[0m \u001B[0mtensorflow_data_validation\u001B[0m\u001B[0;34m.\u001B[0m\u001B[0mstatistics\u001B[0m \u001B[0;32mimport\u001B[0m \u001B[0mstats_options\u001B[0m\u001B[0;34m\u001B[0m\u001B[0;34m\u001B[0m\u001B[0m\n\u001B[0;32m---> 28\u001B[0;31m \u001B[0;32mfrom\u001B[0m \u001B[0mtensorflow_data_validation\u001B[0m\u001B[0;34m.\u001B[0m\u001B[0mstatistics\u001B[0m\u001B[0;34m.\u001B[0m\u001B[0mgenerators\u001B[0m \u001B[0;32mimport\u001B[0m \u001B[0mbasic_stats_generator\u001B[0m\u001B[0;34m\u001B[0m\u001B[0;34m\u001B[0m\u001B[0m\n\u001B[0m\u001B[1;32m     29\u001B[0m \u001B[0;32mfrom\u001B[0m \u001B[0mtensorflow_data_validation\u001B[0m\u001B[0;34m.\u001B[0m\u001B[0mstatistics\u001B[0m\u001B[0;34m.\u001B[0m\u001B[0mgenerators\u001B[0m \u001B[0;32mimport\u001B[0m \u001B[0mimage_stats_generator\u001B[0m\u001B[0;34m\u001B[0m\u001B[0;34m\u001B[0m\u001B[0m\n\u001B[1;32m     30\u001B[0m \u001B[0;32mfrom\u001B[0m \u001B[0mtensorflow_data_validation\u001B[0m\u001B[0;34m.\u001B[0m\u001B[0mstatistics\u001B[0m\u001B[0;34m.\u001B[0m\u001B[0mgenerators\u001B[0m \u001B[0;32mimport\u001B[0m \u001B[0mlift_stats_generator\u001B[0m\u001B[0;34m\u001B[0m\u001B[0;34m\u001B[0m\u001B[0m\n",
      "\u001B[0;32m~/anaconda3/envs/OPCO-Module-3-p3.11/lib/python3.11/site-packages/tensorflow_data_validation/statistics/generators/basic_stats_generator.py\u001B[0m in \u001B[0;36m<module>\u001B[0;34m\u001B[0m\n\u001B[1;32m     70\u001B[0m \u001B[0;32mfrom\u001B[0m \u001B[0mtensorflow_data_validation\u001B[0m\u001B[0;34m.\u001B[0m\u001B[0mstatistics\u001B[0m\u001B[0;34m.\u001B[0m\u001B[0mgenerators\u001B[0m \u001B[0;32mimport\u001B[0m \u001B[0mstats_generator\u001B[0m\u001B[0;34m\u001B[0m\u001B[0;34m\u001B[0m\u001B[0m\n\u001B[1;32m     71\u001B[0m \u001B[0;32mfrom\u001B[0m \u001B[0mtensorflow_data_validation\u001B[0m\u001B[0;34m.\u001B[0m\u001B[0mutils\u001B[0m \u001B[0;32mimport\u001B[0m \u001B[0mexample_weight_map\u001B[0m \u001B[0;32mas\u001B[0m \u001B[0mexample_weight_map_util\u001B[0m\u001B[0;34m\u001B[0m\u001B[0;34m\u001B[0m\u001B[0m\n\u001B[0;32m---> 72\u001B[0;31m \u001B[0;32mfrom\u001B[0m \u001B[0mtensorflow_data_validation\u001B[0m\u001B[0;34m.\u001B[0m\u001B[0mutils\u001B[0m \u001B[0;32mimport\u001B[0m \u001B[0mfeature_partition_util\u001B[0m\u001B[0;34m\u001B[0m\u001B[0;34m\u001B[0m\u001B[0m\n\u001B[0m\u001B[1;32m     73\u001B[0m \u001B[0;32mfrom\u001B[0m \u001B[0mtensorflow_data_validation\u001B[0m\u001B[0;34m.\u001B[0m\u001B[0mutils\u001B[0m \u001B[0;32mimport\u001B[0m \u001B[0mquantiles_util\u001B[0m\u001B[0;34m\u001B[0m\u001B[0;34m\u001B[0m\u001B[0m\n\u001B[1;32m     74\u001B[0m \u001B[0;32mfrom\u001B[0m \u001B[0mtensorflow_data_validation\u001B[0m\u001B[0;34m.\u001B[0m\u001B[0mutils\u001B[0m \u001B[0;32mimport\u001B[0m \u001B[0mschema_util\u001B[0m\u001B[0;34m\u001B[0m\u001B[0;34m\u001B[0m\u001B[0m\n",
      "\u001B[0;32m~/anaconda3/envs/OPCO-Module-3-p3.11/lib/python3.11/site-packages/tensorflow_data_validation/utils/feature_partition_util.py\u001B[0m in \u001B[0;36m<module>\u001B[0;34m\u001B[0m\n\u001B[1;32m     18\u001B[0m \u001B[0;34m\u001B[0m\u001B[0m\n\u001B[1;32m     19\u001B[0m \u001B[0;32mimport\u001B[0m \u001B[0mapache_beam\u001B[0m \u001B[0;32mas\u001B[0m \u001B[0mbeam\u001B[0m\u001B[0;34m\u001B[0m\u001B[0;34m\u001B[0m\u001B[0m\n\u001B[0;32m---> 20\u001B[0;31m \u001B[0;32mimport\u001B[0m \u001B[0mfarmhash\u001B[0m\u001B[0;34m\u001B[0m\u001B[0;34m\u001B[0m\u001B[0m\n\u001B[0m\u001B[1;32m     21\u001B[0m \u001B[0;32mimport\u001B[0m \u001B[0mpyarrow\u001B[0m \u001B[0;32mas\u001B[0m \u001B[0mpa\u001B[0m\u001B[0;34m\u001B[0m\u001B[0;34m\u001B[0m\u001B[0m\n\u001B[1;32m     22\u001B[0m \u001B[0;32mfrom\u001B[0m \u001B[0mtensorflow_data_validation\u001B[0m \u001B[0;32mimport\u001B[0m \u001B[0mtypes\u001B[0m\u001B[0;34m\u001B[0m\u001B[0;34m\u001B[0m\u001B[0m\n",
      "\u001B[0;31mImportError\u001B[0m: /home/bruno/anaconda3/envs/OPCO-Module-3-p3.11/lib/python3.11/site-packages/zmq/backend/cython/../../../../.././libstdc++.so.6: version `GLIBCXX_3.4.32' not found (required by /home/bruno/anaconda3/envs/OPCO-Module-3-p3.11/lib/python3.11/site-packages/farmhash.cpython-311-x86_64-linux-gnu.so)"
     ]
    }
   ],
   "execution_count": 2
  },
  {
   "metadata": {
    "ExecuteTime": {
     "end_time": "2025-07-27T15:08:11.631901Z",
     "start_time": "2025-07-27T15:08:11.620616Z"
    }
   },
   "cell_type": "code",
   "source": [
    "train_stats = tfdv.generate_statistics_from_csv(data_location='data/training_dataset.csv')\n",
    "tfdv.visualize_statistics(train_stats)"
   ],
   "id": "d3f59575c9c2e4d7",
   "outputs": [
    {
     "ename": "NameError",
     "evalue": "name 'tfdv' is not defined",
     "output_type": "error",
     "traceback": [
      "\u001B[0;31m---------------------------------------------------------------------------\u001B[0m",
      "\u001B[0;31mNameError\u001B[0m                                 Traceback (most recent call last)",
      "\u001B[0;32m/tmp/ipykernel_56514/2241691804.py\u001B[0m in \u001B[0;36m<cell line: 0>\u001B[0;34m()\u001B[0m\n\u001B[0;32m----> 1\u001B[0;31m \u001B[0mtrain_stats\u001B[0m \u001B[0;34m=\u001B[0m \u001B[0mtfdv\u001B[0m\u001B[0;34m.\u001B[0m\u001B[0mgenerate_statistics_from_csv\u001B[0m\u001B[0;34m(\u001B[0m\u001B[0mdata_location\u001B[0m\u001B[0;34m=\u001B[0m\u001B[0;34m'data/training_dataset.csv'\u001B[0m\u001B[0;34m)\u001B[0m\u001B[0;34m\u001B[0m\u001B[0;34m\u001B[0m\u001B[0m\n\u001B[0m\u001B[1;32m      2\u001B[0m \u001B[0mtfdv\u001B[0m\u001B[0;34m.\u001B[0m\u001B[0mvisualize_statistics\u001B[0m\u001B[0;34m(\u001B[0m\u001B[0mtrain_stats\u001B[0m\u001B[0;34m)\u001B[0m\u001B[0;34m\u001B[0m\u001B[0;34m\u001B[0m\u001B[0m\n",
      "\u001B[0;31mNameError\u001B[0m: name 'tfdv' is not defined"
     ]
    }
   ],
   "execution_count": 3
  }
 ],
 "metadata": {
  "kernelspec": {
   "display_name": "Python 3",
   "language": "python",
   "name": "python3"
  },
  "language_info": {
   "codemirror_mode": {
    "name": "ipython",
    "version": 2
   },
   "file_extension": ".py",
   "mimetype": "text/x-python",
   "name": "python",
   "nbconvert_exporter": "python",
   "pygments_lexer": "ipython2",
   "version": "2.7.6"
  }
 },
 "nbformat": 4,
 "nbformat_minor": 5
}
